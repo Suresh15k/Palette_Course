{
 "cells": [
  {
   "cell_type": "markdown",
   "metadata": {},
   "source": [
    "# Assignment 3"
   ]
  },
  {
   "cell_type": "markdown",
   "metadata": {},
   "source": [
    "**Please follow the instructions. Do not add new cell! Write your code in designated areas.**"
   ]
  },
  {
   "cell_type": "code",
   "execution_count": null,
   "metadata": {},
   "outputs": [],
   "source": [
    "import datetime\n",
    "import socket\n",
    "\n",
    "# Get local time\n",
    "local_time = datetime.datetime.now().strftime(\"%Y-%m-%d %H:%M:%S\")\n",
    "\n",
    "# Get computer ID or hostname\n",
    "computer_id = socket.gethostname()\n",
    "\n",
    "# Print output with local time and computer ID\n",
    "print('Assignment 1 & 2: Solutions by John') # Please change your name here\n",
    "print('Local Time:', local_time)\n",
    "print('Computer ID:', computer_id)"
   ]
  },
  {
   "cell_type": "markdown",
   "metadata": {},
   "source": [
    "## NumPy"
   ]
  },
  {
   "cell_type": "code",
   "execution_count": 3,
   "metadata": {},
   "outputs": [],
   "source": [
    "import numpy as np\n",
    "import pandas as pd\n"
   ]
  },
  {
   "cell_type": "markdown",
   "metadata": {},
   "source": [
    "1. Create a 2D numpy array of size 4x5 with random integers between 1 and 10. Find the maximum value of the entire array. \n"
   ]
  },
  {
   "cell_type": "code",
   "execution_count": 8,
   "metadata": {},
   "outputs": [
    {
     "name": "stdout",
     "output_type": "stream",
     "text": [
      "Random Array:\n",
      "[[ 5  9  8  6 10]\n",
      " [ 4  1  5  1  1]\n",
      " [ 5  2  3  3  8]\n",
      " [ 4  3  2  4  1]]\n",
      "4.25\n"
     ]
    }
   ],
   "source": [
    "## Your code here down\n",
    "random_array = np.random.randint(1, 11, size=(4, 5))\n",
    "\n",
    "# Print the random array\n",
    "print(\"Random Array:\")\n",
    "print(random_array)\n",
    "\n",
    "# Find the maximum value in the entire array\n",
    "max_value = np.max(random_array)\n",
    "mean = np.mean(random_array)\n",
    "print(mean)\n",
    "\n",
    "## Your code here up"
   ]
  },
  {
   "cell_type": "markdown",
   "metadata": {},
   "source": [
    "2. Create a 1D numpy array of size 20 with random floats between 0 and 1. Reshape the array into a 4x5 matrix. Compute the mean of each row."
   ]
  },
  {
   "cell_type": "code",
   "execution_count": 9,
   "metadata": {},
   "outputs": [
    {
     "name": "stdout",
     "output_type": "stream",
     "text": [
      "1D Array:\n",
      "[0.48743725 0.62330337 0.85986842 0.62154212 0.17955805 0.20773343\n",
      " 0.1689941  0.65223123 0.93789135 0.26944637 0.51143896 0.02635551\n",
      " 0.62513341 0.7724302  0.21128478 0.52941746 0.18541896 0.15944644\n",
      " 0.86542933 0.68643421]\n",
      "\n",
      "Reshaped Matrix (4x5):\n",
      "[[0.48743725 0.62330337 0.85986842 0.62154212 0.17955805]\n",
      " [0.20773343 0.1689941  0.65223123 0.93789135 0.26944637]\n",
      " [0.51143896 0.02635551 0.62513341 0.7724302  0.21128478]\n",
      " [0.52941746 0.18541896 0.15944644 0.86542933 0.68643421]]\n",
      "\n",
      "Mean of each row:\n",
      "[0.55434184 0.4472593  0.42932857 0.48522928]\n"
     ]
    }
   ],
   "source": [
    "## Your code here down\n",
    "random_floats = np.random.random(20)\n",
    "\n",
    "# Reshape the array into a 4x5 matrix\n",
    "matrix = random_floats.reshape(4, 5)\n",
    "\n",
    "\n",
    "row_means = np.mean(matrix, axis=1)\n",
    "\n",
    "print(\"1D Array:\")\n",
    "print(random_floats)\n",
    "print(\"\\nReshaped Matrix (4x5):\")\n",
    "print(matrix)\n",
    "print(\"\\nMean of each row:\")\n",
    "print(row_means)\n",
    "\n",
    "## Your code here up"
   ]
  },
  {
   "cell_type": "markdown",
   "metadata": {},
   "source": [
    "3. Create a 2D numpy array of size 5x5 with random integers between 1 and 100. Compute standard deviation of each column."
   ]
  },
  {
   "cell_type": "code",
   "execution_count": 10,
   "metadata": {},
   "outputs": [
    {
     "name": "stdout",
     "output_type": "stream",
     "text": [
      "Random Array:\n",
      "[[ 44  69  70  55  70]\n",
      " [ 31  68  26  93   3]\n",
      " [ 27  36  10  32  83]\n",
      " [ 79  77  46  30  32]\n",
      " [ 31 100  92  57  98]]\n",
      "\n",
      "Standard deviation of each column:\n",
      "[19.17915535 20.54263858 29.49169375 22.75609808 34.83331738]\n"
     ]
    }
   ],
   "source": [
    "## Your code here down\n",
    "random_integers = np.random.randint(1, 101, size=(5, 5))\n",
    "\n",
    "# Print the random array\n",
    "print(\"Random Array:\")\n",
    "print(random_integers)\n",
    "\n",
    "# Compute the standard deviation of each column\n",
    "column_std = np.std(random_integers, axis=0)\n",
    "\n",
    "# Print the standard deviation of each column\n",
    "print(\"\\nStandard deviation of each column:\")\n",
    "print(column_std)\n",
    "\n",
    "## Your code here up"
   ]
  },
  {
   "cell_type": "markdown",
   "metadata": {},
   "source": [
    "4. Create a 1D numpy array of size 15 with random floats between -10 and 10. Replace all negative values with their absolute values."
   ]
  },
  {
   "cell_type": "code",
   "execution_count": 11,
   "metadata": {},
   "outputs": [
    {
     "name": "stdout",
     "output_type": "stream",
     "text": [
      "Original Array:\n",
      "[-1.60035091 -8.01418315  2.13830878 -3.43564802  6.54532914 -4.76404908\n",
      "  4.81309885  7.12375451  2.8764425   4.55594695 -1.79888936  3.76076022\n",
      " -6.89027737 -9.25961368 -9.17732061]\n",
      "\n",
      "Array after replacing negative values with absolute values:\n",
      "[1.60035091 8.01418315 2.13830878 3.43564802 6.54532914 4.76404908\n",
      " 4.81309885 7.12375451 2.8764425  4.55594695 1.79888936 3.76076022\n",
      " 6.89027737 9.25961368 9.17732061]\n"
     ]
    }
   ],
   "source": [
    "## Your code here down\n",
    "random_floats = np.random.uniform(-10, 10, 15)\n",
    "\n",
    "# Print the original 1D array\n",
    "print(\"Original Array:\")\n",
    "print(random_floats)\n",
    "\n",
    "# Replace negative values with their absolute values\n",
    "random_floats = np.abs(random_floats)\n",
    "\n",
    "# Print the array after replacing negative values with their absolute values\n",
    "print(\"\\nArray after replacing negative values with absolute values:\")\n",
    "print(random_floats)\n",
    "\n",
    "## Your code here up"
   ]
  },
  {
   "cell_type": "markdown",
   "metadata": {},
   "source": [
    "5. Create a 2D numpy array of size 3x4 with random integers between 1 and 100. Calculate the sum of all elements in the array."
   ]
  },
  {
   "cell_type": "code",
   "execution_count": 12,
   "metadata": {},
   "outputs": [
    {
     "name": "stdout",
     "output_type": "stream",
     "text": [
      "Random Array:\n",
      "[[82 54 47 57]\n",
      " [45 14  6  2]\n",
      " [53  5 28 40]]\n",
      "\n",
      "Sum of all elements in the array: 433\n"
     ]
    }
   ],
   "source": [
    "## Your code here down\n",
    "random_integers = np.random.randint(1, 101, size=(3, 4))\n",
    "\n",
    "# Print the random array\n",
    "print(\"Random Array:\")\n",
    "print(random_integers)\n",
    "\n",
    "# Calculate the sum of all elements in the array\n",
    "total_sum = np.sum(random_integers)\n",
    "\n",
    "# Print the sum of all elements in the array\n",
    "print(\"\\nSum of all elements in the array:\", total_sum)\n",
    "\n",
    "## Your code here up"
   ]
  },
  {
   "cell_type": "markdown",
   "metadata": {},
   "source": [
    "7. Create a 2D numpy array of size 4x6 with random floats between 0 and 1. Normalize each column by subtracting the column mean and dividing by the column standard deviation."
   ]
  },
  {
   "cell_type": "code",
   "execution_count": 13,
   "metadata": {},
   "outputs": [
    {
     "name": "stdout",
     "output_type": "stream",
     "text": [
      "Original Array:\n",
      "[[0.29075112 0.02991325 0.684239   0.21239617 0.93591175 0.35112491]\n",
      " [0.55089184 0.67661975 0.2166171  0.36109694 0.70211901 0.70924695]\n",
      " [0.54603781 0.81889499 0.07411764 0.4944698  0.80557281 0.70945131]\n",
      " [0.88094905 0.51927061 0.06062536 0.14869533 0.02341611 0.42538199]]\n",
      "\n",
      "Normalized Array:\n",
      "[[-1.31930473 -1.61833241  1.6807808  -0.68376618  0.90556775 -1.21512185]\n",
      " [-0.0776368   0.55634041 -0.16708525  0.42420311  0.24220998  0.98626364]\n",
      " [-0.10080539  1.0347678  -0.73018956  1.41796418  0.53574724  0.98751985]\n",
      " [ 1.49774691  0.0272242  -0.78350598 -1.15840111 -1.68352496 -0.75866163]]\n"
     ]
    }
   ],
   "source": [
    "## Your code here down\n",
    "random_floats = np.random.random((4, 6))\n",
    "\n",
    "# Print the original array\n",
    "print(\"Original Array:\")\n",
    "print(random_floats)\n",
    "\n",
    "# Calculate the mean and standard deviation of each column\n",
    "column_means = np.mean(random_floats, axis=0)\n",
    "column_stds = np.std(random_floats, axis=0)\n",
    "\n",
    "# Normalize each column\n",
    "normalized_array = (random_floats - column_means) / column_stds\n",
    "\n",
    "# Print the normalized array\n",
    "print(\"\\nNormalized Array:\")\n",
    "print(normalized_array)\n",
    "\n",
    "## Your code here up"
   ]
  },
  {
   "cell_type": "markdown",
   "metadata": {},
   "source": [
    "8. Create a 2D numpy array of size 10x10 with random integers between 1 and 100. Replace all values greater than 50 with 1 and all other values with 0."
   ]
  },
  {
   "cell_type": "code",
   "execution_count": 14,
   "metadata": {},
   "outputs": [
    {
     "name": "stdout",
     "output_type": "stream",
     "text": [
      "Original Array:\n",
      "[[ 72  42  68  48   3  22  60  20  16  67]\n",
      " [ 26  92  73  31  59  49  16  38  92  82]\n",
      " [ 75  71  10  30  93  91  70  19  39  52]\n",
      " [ 20  62  78  16   9  77  47  52  57  72]\n",
      " [ 20  28  14  27   9  42   9  56  92   9]\n",
      " [ 52   5  75  15  74  12  15  74  40  60]\n",
      " [ 12  85  76  70  55  88   7  44  39  82]\n",
      " [ 14  85   9  20  66  56  74  66  87  15]\n",
      " [ 95  43  61  52  33  66  35  86 100  45]\n",
      " [  6  54  97  84  89  26  37  75  68  77]]\n",
      "\n",
      "Array after replacement:\n",
      "[[1 0 1 0 0 0 1 0 0 1]\n",
      " [0 1 1 0 1 0 0 0 1 1]\n",
      " [1 1 0 0 1 1 1 0 0 1]\n",
      " [0 1 1 0 0 1 0 1 1 1]\n",
      " [0 0 0 0 0 0 0 1 1 0]\n",
      " [1 0 1 0 1 0 0 1 0 1]\n",
      " [0 1 1 1 1 1 0 0 0 1]\n",
      " [0 1 0 0 1 1 1 1 1 0]\n",
      " [1 0 1 1 0 1 0 1 1 0]\n",
      " [0 1 1 1 1 0 0 1 1 1]]\n"
     ]
    }
   ],
   "source": [
    "## Your code here down\n",
    "\n",
    "random_integers = np.random.randint(1, 101, size=(10, 10))\n",
    "\n",
    "# Print the original array\n",
    "print(\"Original Array:\")\n",
    "print(random_integers)\n",
    "\n",
    "# Replace values greater than 50 with 1 and others with 0\n",
    "binary_array = np.where(random_integers > 50, 1, 0)\n",
    "\n",
    "# Print the array after replacement\n",
    "print(\"\\nArray after replacement:\")\n",
    "print(binary_array)\n",
    "## Your code here up"
   ]
  },
  {
   "cell_type": "markdown",
   "metadata": {},
   "source": [
    "9. Create a 1D numpy array of size 50 with random floats between 0 and 1. Find the number of elements greater than 0.5."
   ]
  },
  {
   "cell_type": "code",
   "execution_count": 15,
   "metadata": {},
   "outputs": [
    {
     "name": "stdout",
     "output_type": "stream",
     "text": [
      "Original Array:\n",
      "[0.27272522 0.42354916 0.65722686 0.32456699 0.12258705 0.28287\n",
      " 0.83217961 0.62638968 0.3373439  0.72603257 0.78396865 0.03459583\n",
      " 0.75002812 0.62068739 0.35471286 0.50958288 0.9670402  0.31463942\n",
      " 0.08148433 0.20477876 0.72218188 0.86750423 0.83870985 0.89436469\n",
      " 0.75563267 0.01417286 0.73679014 0.65383108 0.34218846 0.89289266\n",
      " 0.39049032 0.85634616 0.28826999 0.53426914 0.66498648 0.65725415\n",
      " 0.57260789 0.95158226 0.86027754 0.27648774 0.50382103 0.88065736\n",
      " 0.60033645 0.30837343 0.19902573 0.57809387 0.13523824 0.32595037\n",
      " 0.73038415 0.60286291]\n",
      "\n",
      "Number of elements greater than 0.5: 30\n"
     ]
    }
   ],
   "source": [
    "## Your code here down\n",
    "random_floats = np.random.random(50)\n",
    "\n",
    "# Print the original 1D array\n",
    "print(\"Original Array:\")\n",
    "print(random_floats)\n",
    "\n",
    "# Count the number of elements greater than 0.5\n",
    "count_greater_than_0_5 = np.sum(random_floats > 0.5)\n",
    "\n",
    "# Print the count\n",
    "print(\"\\nNumber of elements greater than 0.5:\", count_greater_than_0_5)\n",
    "\n",
    "## Your code here up"
   ]
  },
  {
   "cell_type": "markdown",
   "metadata": {},
   "source": [
    "10. Create a 2D numpy array of size 5x5 with random floats between -1 and 1. Find the absolute difference between the maximum and minimum values in each row."
   ]
  },
  {
   "cell_type": "code",
   "execution_count": 16,
   "metadata": {},
   "outputs": [
    {
     "name": "stdout",
     "output_type": "stream",
     "text": [
      "Original Array:\n",
      "[[-0.28866087  0.88244241  0.38009931  0.14059256 -0.36750329]\n",
      " [ 0.53893218  0.41504507 -0.48422702  0.70773134 -0.98538703]\n",
      " [ 0.25222488  0.11240666 -0.57228874 -0.75445587 -0.56969491]\n",
      " [ 0.59494661  0.79315228 -0.66681069 -0.76370857 -0.70302399]\n",
      " [-0.64084266 -0.5820088   0.42143022 -0.43475693 -0.40891102]]\n",
      "\n",
      "Absolute difference between max and min values in each row:\n",
      "[1.2499457  1.69311838 1.00668076 1.55686085 1.06227287]\n"
     ]
    }
   ],
   "source": [
    "## Your code here down\n",
    "random_floats = np.random.uniform(-1, 1, size=(5, 5))\n",
    "\n",
    "# Print the original array\n",
    "print(\"Original Array:\")\n",
    "print(random_floats)\n",
    "\n",
    "# Calculate the absolute difference between the maximum and minimum values in each row\n",
    "row_abs_diff = np.abs(np.max(random_floats, axis=1) - np.min(random_floats, axis=1))\n",
    "\n",
    "# Print the absolute difference for each row\n",
    "print(\"\\nAbsolute difference between max and min values in each row:\")\n",
    "print(row_abs_diff)\n",
    "\n",
    "## Your code here up"
   ]
  },
  {
   "cell_type": "markdown",
   "metadata": {},
   "source": [
    "## Pandas"
   ]
  },
  {
   "cell_type": "markdown",
   "metadata": {},
   "source": [
    "Please refer the dataframe (farm data) we have created in the training. Please copy that cell and paste it below before starting this part. "
   ]
  },
  {
   "cell_type": "code",
   "execution_count": 20,
   "metadata": {},
   "outputs": [],
   "source": [
    "import random\n",
    "import pandas as pd\n",
    "\n",
    "# Define the range for longitude and latitude\n",
    "lon_range = (-105, -100)\n",
    "lat_range = (50, 52)\n",
    "\n",
    "# Define the list of soil types\n",
    "soil_types = ['black', 'gray', 'dark brown', 'brown', None]\n",
    "\n",
    "# Create an empty list to store the farms\n",
    "farms = []\n",
    "\n",
    "# Generate 40 farms\n",
    "for i in range(200):\n",
    "    farm = {\n",
    "        'farm_name': f'Farm {i+1}', # f is formated string\n",
    "        'farm_lon': round(random.uniform(lon_range[0], lon_range[1]), 2), # random lon with 2 decimal points\n",
    "        'farm_lat': round(random.uniform(lat_range[0], lat_range[1]), 2), # rantom lat with 2 decimal points\n",
    "        'temperature': round(random.uniform(18, 33), 1), #random temp with 1 decimal points\n",
    "        'precipitation': round(random.uniform(20, 90), 1), # random prec with 1 decimal points\n",
    "        'soil_type': random.choice(soil_types) # random soil types from above list\n",
    "    }\n",
    "    farms.append(farm)"
   ]
  },
  {
   "cell_type": "code",
   "execution_count": 21,
   "metadata": {},
   "outputs": [
    {
     "ename": "SyntaxError",
     "evalue": "invalid syntax (4060184953.py, line 1)",
     "output_type": "error",
     "traceback": [
      "\u001b[1;36m  Cell \u001b[1;32mIn[21], line 1\u001b[1;36m\u001b[0m\n\u001b[1;33m    df = # your code here\u001b[0m\n\u001b[1;37m         ^\u001b[0m\n\u001b[1;31mSyntaxError\u001b[0m\u001b[1;31m:\u001b[0m invalid syntax\n"
     ]
    }
   ],
   "source": [
    "df = # your code here"
   ]
  },
  {
   "cell_type": "markdown",
   "metadata": {},
   "source": [
    "1. Select the rows where the temperature is above 20 degrees Celsius."
   ]
  },
  {
   "cell_type": "code",
   "execution_count": 22,
   "metadata": {},
   "outputs": [],
   "source": [
    "## Your code here down\n",
    "\n",
    "\n",
    "## Your code here up"
   ]
  },
  {
   "cell_type": "markdown",
   "metadata": {},
   "source": [
    "2. Sort the DataFrame by precipitation in descending order."
   ]
  },
  {
   "cell_type": "code",
   "execution_count": 23,
   "metadata": {},
   "outputs": [],
   "source": [
    "## Your code here down\n",
    "\n",
    "\n",
    "## Your code here up"
   ]
  },
  {
   "cell_type": "markdown",
   "metadata": {},
   "source": [
    "3. Filter the DataFrame to include only the farms located within latitude (51.15 & 51.00) range."
   ]
  },
  {
   "cell_type": "code",
   "execution_count": 24,
   "metadata": {},
   "outputs": [],
   "source": [
    "## Your code here down\n",
    "\n",
    "\n",
    "## Your code here up"
   ]
  },
  {
   "cell_type": "markdown",
   "metadata": {},
   "source": [
    " 4. Calculate the standard deviation of precipitation for each soil type."
   ]
  },
  {
   "cell_type": "code",
   "execution_count": 25,
   "metadata": {},
   "outputs": [],
   "source": [
    "## Your code here down\n",
    "\n",
    "\n",
    "## Your code here up"
   ]
  },
  {
   "cell_type": "markdown",
   "metadata": {},
   "source": [
    "5. Calculate the cumulative sum of precipitation for each soil type."
   ]
  },
  {
   "cell_type": "code",
   "execution_count": 26,
   "metadata": {},
   "outputs": [],
   "source": [
    "## Your code here down\n",
    "\n",
    "\n",
    "## Your code here up"
   ]
  },
  {
   "cell_type": "markdown",
   "metadata": {},
   "source": [
    "6. Determine the top 3 farms with the highest average temperature."
   ]
  },
  {
   "cell_type": "code",
   "execution_count": 27,
   "metadata": {},
   "outputs": [],
   "source": [
    "## Your code here down\n",
    "\n",
    "\n",
    "## Your code here up"
   ]
  },
  {
   "cell_type": "markdown",
   "metadata": {},
   "source": [
    "7. Find famrs in each soil type that have the highest temperature."
   ]
  },
  {
   "cell_type": "code",
   "execution_count": 28,
   "metadata": {},
   "outputs": [],
   "source": [
    "## Your code here down\n",
    "\n",
    "\n",
    "## Your code here up"
   ]
  },
  {
   "cell_type": "markdown",
   "metadata": {},
   "source": [
    "8. Create new column 'percentage_tot_prec' and add the percentage contribution of each farm's precipitation (relative to total precipitation) to the column."
   ]
  },
  {
   "cell_type": "code",
   "execution_count": 29,
   "metadata": {},
   "outputs": [],
   "source": [
    "## Your code here down\n",
    "\n",
    "\n",
    "## Your code here up"
   ]
  },
  {
   "cell_type": "markdown",
   "metadata": {},
   "source": [
    "9. Create a new column called \"precipitation_rank\" that ranks the farms based on their precipitation in ascending order, with ties being assigned the same rank."
   ]
  },
  {
   "cell_type": "code",
   "execution_count": null,
   "metadata": {},
   "outputs": [],
   "source": [
    "## Your code here down\n",
    "\n",
    "\n",
    "## Your code here up"
   ]
  },
  {
   "cell_type": "markdown",
   "metadata": {},
   "source": [
    "10. Normalize the temperature column to a range between 0 and 1 for each farm."
   ]
  },
  {
   "cell_type": "code",
   "execution_count": null,
   "metadata": {},
   "outputs": [],
   "source": [
    "## Your code here down\n",
    "\n",
    "\n",
    "## Your code here up"
   ]
  },
  {
   "cell_type": "markdown",
   "metadata": {},
   "source": [
    "# Assignment 4"
   ]
  },
  {
   "cell_type": "markdown",
   "metadata": {},
   "source": [
    "## ETL"
   ]
  },
  {
   "cell_type": "markdown",
   "metadata": {},
   "source": [
    "11. Change column types accordingly."
   ]
  },
  {
   "cell_type": "code",
   "execution_count": null,
   "metadata": {},
   "outputs": [],
   "source": [
    "## Your code here down\n",
    "\n",
    "\n",
    "## Your code here up"
   ]
  },
  {
   "cell_type": "markdown",
   "metadata": {},
   "source": [
    "## EDA"
   ]
  },
  {
   "cell_type": "markdown",
   "metadata": {},
   "source": [
    "12. Find missing values and give information how would you handle them"
   ]
  },
  {
   "cell_type": "code",
   "execution_count": null,
   "metadata": {},
   "outputs": [],
   "source": [
    "## Your code here down\n",
    "\n",
    "\n",
    "## Your code here up"
   ]
  },
  {
   "cell_type": "markdown",
   "metadata": {},
   "source": [
    "13. Find outliers if there is any how would you handle them"
   ]
  },
  {
   "cell_type": "code",
   "execution_count": null,
   "metadata": {},
   "outputs": [],
   "source": [
    "## Your code here down\n",
    "\n",
    "\n",
    "## Your code here up"
   ]
  },
  {
   "cell_type": "markdown",
   "metadata": {},
   "source": [
    "14. Find descriptive statistics for relavant columns and plot them by using bars."
   ]
  },
  {
   "cell_type": "code",
   "execution_count": null,
   "metadata": {},
   "outputs": [],
   "source": [
    "## Your code here down\n",
    "\n",
    "\n",
    "## Your code here up"
   ]
  },
  {
   "cell_type": "markdown",
   "metadata": {},
   "source": [
    "15. Plot the distribution of relevant columns."
   ]
  },
  {
   "cell_type": "code",
   "execution_count": null,
   "metadata": {},
   "outputs": [],
   "source": [
    "## Your code here down\n",
    "\n",
    "\n",
    "## Your code here up"
   ]
  }
 ],
 "metadata": {
  "kernelspec": {
   "display_name": "Python 3 (ipykernel)",
   "language": "python",
   "name": "python3"
  },
  "language_info": {
   "codemirror_mode": {
    "name": "ipython",
    "version": 3
   },
   "file_extension": ".py",
   "mimetype": "text/x-python",
   "name": "python",
   "nbconvert_exporter": "python",
   "pygments_lexer": "ipython3",
   "version": "3.10.9"
  }
 },
 "nbformat": 4,
 "nbformat_minor": 4
}
