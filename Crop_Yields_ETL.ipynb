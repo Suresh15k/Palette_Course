{
 "cells": [
  {
   "cell_type": "markdown",
   "metadata": {},
   "source": [
    "## Scoping"
   ]
  },
  {
   "cell_type": "code",
   "execution_count": 1,
   "metadata": {},
   "outputs": [],
   "source": [
    "# What is business idea\n",
    "# What problem you are solving"
   ]
  },
  {
   "cell_type": "markdown",
   "metadata": {},
   "source": [
    "# ETL (Extract, Transform, Load)"
   ]
  },
  {
   "cell_type": "code",
   "execution_count": 2,
   "metadata": {},
   "outputs": [
    {
     "name": "stdout",
     "output_type": "stream",
     "text": [
      "Defaulting to user installation because normal site-packages is not writeable\n",
      "Requirement already satisfied: folium in c:\\users\\adith\\appdata\\roaming\\python\\python310\\site-packages (0.14.0)\n",
      "Requirement already satisfied: numpy in c:\\programdata\\anaconda3\\lib\\site-packages (from folium) (1.23.5)\n",
      "Requirement already satisfied: requests in c:\\programdata\\anaconda3\\lib\\site-packages (from folium) (2.28.1)\n",
      "Requirement already satisfied: jinja2>=2.9 in c:\\programdata\\anaconda3\\lib\\site-packages (from folium) (3.1.2)\n",
      "Requirement already satisfied: branca>=0.6.0 in c:\\users\\adith\\appdata\\roaming\\python\\python310\\site-packages (from folium) (0.6.0)\n",
      "Requirement already satisfied: MarkupSafe>=2.0 in c:\\programdata\\anaconda3\\lib\\site-packages (from jinja2>=2.9->folium) (2.1.1)\n",
      "Requirement already satisfied: urllib3<1.27,>=1.21.1 in c:\\programdata\\anaconda3\\lib\\site-packages (from requests->folium) (1.26.14)\n",
      "Requirement already satisfied: idna<4,>=2.5 in c:\\programdata\\anaconda3\\lib\\site-packages (from requests->folium) (3.4)\n",
      "Requirement already satisfied: charset-normalizer<3,>=2 in c:\\programdata\\anaconda3\\lib\\site-packages (from requests->folium) (2.0.4)\n",
      "Requirement already satisfied: certifi>=2017.4.17 in c:\\programdata\\anaconda3\\lib\\site-packages (from requests->folium) (2023.5.7)\n",
      "Defaulting to user installation because normal site-packages is not writeable\n",
      "Requirement already satisfied: folium in c:\\users\\adith\\appdata\\roaming\\python\\python310\\site-packages (0.14.0)\n",
      "Requirement already satisfied: matplotlib in c:\\programdata\\anaconda3\\lib\\site-packages (3.7.0)\n",
      "Requirement already satisfied: mapclassify in c:\\users\\adith\\appdata\\roaming\\python\\python310\\site-packages (2.6.1)\n",
      "Requirement already satisfied: branca>=0.6.0 in c:\\users\\adith\\appdata\\roaming\\python\\python310\\site-packages (from folium) (0.6.0)\n",
      "Requirement already satisfied: requests in c:\\programdata\\anaconda3\\lib\\site-packages (from folium) (2.28.1)\n",
      "Requirement already satisfied: numpy in c:\\programdata\\anaconda3\\lib\\site-packages (from folium) (1.23.5)\n",
      "Requirement already satisfied: jinja2>=2.9 in c:\\programdata\\anaconda3\\lib\\site-packages (from folium) (3.1.2)\n",
      "Requirement already satisfied: packaging>=20.0 in c:\\programdata\\anaconda3\\lib\\site-packages (from matplotlib) (22.0)\n",
      "Requirement already satisfied: fonttools>=4.22.0 in c:\\programdata\\anaconda3\\lib\\site-packages (from matplotlib) (4.25.0)\n",
      "Requirement already satisfied: pyparsing>=2.3.1 in c:\\programdata\\anaconda3\\lib\\site-packages (from matplotlib) (3.0.9)\n",
      "Requirement already satisfied: contourpy>=1.0.1 in c:\\programdata\\anaconda3\\lib\\site-packages (from matplotlib) (1.0.5)\n",
      "Requirement already satisfied: kiwisolver>=1.0.1 in c:\\programdata\\anaconda3\\lib\\site-packages (from matplotlib) (1.4.4)\n",
      "Requirement already satisfied: cycler>=0.10 in c:\\programdata\\anaconda3\\lib\\site-packages (from matplotlib) (0.11.0)\n",
      "Requirement already satisfied: pillow>=6.2.0 in c:\\programdata\\anaconda3\\lib\\site-packages (from matplotlib) (9.4.0)\n",
      "Requirement already satisfied: python-dateutil>=2.7 in c:\\programdata\\anaconda3\\lib\\site-packages (from matplotlib) (2.8.2)\n",
      "Requirement already satisfied: networkx>=2.7 in c:\\programdata\\anaconda3\\lib\\site-packages (from mapclassify) (2.8.4)\n",
      "Requirement already satisfied: scipy>=1.8 in c:\\users\\adith\\appdata\\roaming\\python\\python310\\site-packages (from mapclassify) (1.11.1)\n",
      "Requirement already satisfied: scikit-learn>=1.0 in c:\\programdata\\anaconda3\\lib\\site-packages (from mapclassify) (1.2.1)\n",
      "Requirement already satisfied: pandas!=1.5.0,>=1.4 in c:\\programdata\\anaconda3\\lib\\site-packages (from mapclassify) (1.5.3)\n",
      "Requirement already satisfied: MarkupSafe>=2.0 in c:\\programdata\\anaconda3\\lib\\site-packages (from jinja2>=2.9->folium) (2.1.1)\n",
      "Requirement already satisfied: pytz>=2020.1 in c:\\programdata\\anaconda3\\lib\\site-packages (from pandas!=1.5.0,>=1.4->mapclassify) (2022.7)\n",
      "Requirement already satisfied: six>=1.5 in c:\\programdata\\anaconda3\\lib\\site-packages (from python-dateutil>=2.7->matplotlib) (1.16.0)\n",
      "Requirement already satisfied: threadpoolctl>=2.0.0 in c:\\programdata\\anaconda3\\lib\\site-packages (from scikit-learn>=1.0->mapclassify) (2.2.0)\n",
      "Requirement already satisfied: joblib>=1.1.1 in c:\\programdata\\anaconda3\\lib\\site-packages (from scikit-learn>=1.0->mapclassify) (1.1.1)\n",
      "Requirement already satisfied: idna<4,>=2.5 in c:\\programdata\\anaconda3\\lib\\site-packages (from requests->folium) (3.4)\n",
      "Requirement already satisfied: certifi>=2017.4.17 in c:\\programdata\\anaconda3\\lib\\site-packages (from requests->folium) (2023.5.7)\n",
      "Requirement already satisfied: charset-normalizer<3,>=2 in c:\\programdata\\anaconda3\\lib\\site-packages (from requests->folium) (2.0.4)\n",
      "Requirement already satisfied: urllib3<1.27,>=1.21.1 in c:\\programdata\\anaconda3\\lib\\site-packages (from requests->folium) (1.26.14)\n",
      "Defaulting to user installation because normal site-packages is not writeable\n",
      "Requirement already satisfied: geodatasets in c:\\users\\adith\\appdata\\roaming\\python\\python310\\site-packages (2023.3.0)\n",
      "Requirement already satisfied: pooch in c:\\programdata\\anaconda3\\lib\\site-packages (from geodatasets) (1.4.0)\n",
      "Requirement already satisfied: requests in c:\\programdata\\anaconda3\\lib\\site-packages (from pooch->geodatasets) (2.28.1)\n",
      "Requirement already satisfied: packaging in c:\\programdata\\anaconda3\\lib\\site-packages (from pooch->geodatasets) (22.0)\n",
      "Requirement already satisfied: appdirs in c:\\programdata\\anaconda3\\lib\\site-packages (from pooch->geodatasets) (1.4.4)\n",
      "Requirement already satisfied: certifi>=2017.4.17 in c:\\programdata\\anaconda3\\lib\\site-packages (from requests->pooch->geodatasets) (2023.5.7)\n",
      "Requirement already satisfied: idna<4,>=2.5 in c:\\programdata\\anaconda3\\lib\\site-packages (from requests->pooch->geodatasets) (3.4)\n",
      "Requirement already satisfied: urllib3<1.27,>=1.21.1 in c:\\programdata\\anaconda3\\lib\\site-packages (from requests->pooch->geodatasets) (1.26.14)\n",
      "Requirement already satisfied: charset-normalizer<3,>=2 in c:\\programdata\\anaconda3\\lib\\site-packages (from requests->pooch->geodatasets) (2.0.4)\n"
     ]
    }
   ],
   "source": [
    "!pip install folium\n",
    "!pip install folium matplotlib mapclassify\n",
    "!pip install geodatasets\n",
    "\n"
   ]
  },
  {
   "cell_type": "code",
   "execution_count": 3,
   "metadata": {},
   "outputs": [],
   "source": [
    "import pandas as pd\n",
    "import numpy as np\n",
    "import geopandas as gpd\n",
    "import matplotlib.pyplot as plt\n",
    "import seaborn as sb\n",
    "import folium\n",
    "plt.rcParams['figure.figsize'] = [12, 8]"
   ]
  },
  {
   "cell_type": "markdown",
   "metadata": {},
   "source": [
    "## Yield"
   ]
  },
  {
   "cell_type": "code",
   "execution_count": 4,
   "metadata": {},
   "outputs": [],
   "source": [
    "df_sk=pd.read_csv('C:\\\\Users\\\\adith\\\\LHLnotes\\\\Palette Final project\\\\Cohort 4\\\\Palette_Cohort_4\\\\Data\\\\rm-yields-data.csv')"
   ]
  },
  {
   "cell_type": "code",
   "execution_count": 5,
   "metadata": {},
   "outputs": [],
   "source": [
    "df_mb=pd.read_excel('C:\\\\Users\\\\adith\\\\LHLnotes\\\\Palette Final project\\\\Cohort 4\\\\Palette_Cohort_4\\\\Data\\\\MMPP - Yield by Soil Type Browser.xlsx')"
   ]
  },
  {
   "cell_type": "markdown",
   "metadata": {},
   "source": [
    "## Shapefiles"
   ]
  },
  {
   "cell_type": "code",
   "execution_count": 6,
   "metadata": {},
   "outputs": [],
   "source": [
    "gdf_sk=gpd.read_file('C:\\\\Users\\\\adith\\\\LHLnotes\\\\Palette Final project\\\\Cohort 4\\\\Palette_Cohort_4\\\\Data\\\\Rural Municipality\\\\RuralMunicipality.shp')"
   ]
  },
  {
   "cell_type": "code",
   "execution_count": 7,
   "metadata": {},
   "outputs": [],
   "source": [
    "gdf_mb=gpd.read_file('C:\\\\Users\\\\adith\\\\LHLnotes\\\\Palette Final project\\\\Cohort 4\\\\Palette_Cohort_4\\\\Data\\\\MB_Municipal_Boundries\\\\MB_Municipal_Boundaries.shp')"
   ]
  },
  {
   "cell_type": "code",
   "execution_count": 8,
   "metadata": {},
   "outputs": [
    {
     "data": {
      "text/plain": [
       "Index(['PPID', 'EFFDT', 'EXPDT', 'FEATURECD', 'RMNO', 'RMNM', 'SHAPE_AREA',\n",
       "       'SHAPE_LEN', 'geometry'],\n",
       "      dtype='object')"
      ]
     },
     "execution_count": 8,
     "metadata": {},
     "output_type": "execute_result"
    }
   ],
   "source": [
    "gdf_sk.columns"
   ]
  },
  {
   "cell_type": "code",
   "execution_count": null,
   "metadata": {},
   "outputs": [],
   "source": []
  },
  {
   "cell_type": "markdown",
   "metadata": {},
   "source": [
    "## Transforming"
   ]
  },
  {
   "cell_type": "code",
   "execution_count": 9,
   "metadata": {},
   "outputs": [
    {
     "data": {
      "text/plain": [
       "Index(['Year', 'RM', 'Winter Wheat', 'Canola', 'Spring Wheat', 'Mustard',\n",
       "       'Durum', 'Sunflowers', 'Oats', 'Lentils', 'Peas', 'Barley', 'Fall Rye',\n",
       "       'Canary Seed', 'Spring Rye', 'Tame Hay', 'Flax', 'Chickpeas'],\n",
       "      dtype='object')"
      ]
     },
     "execution_count": 9,
     "metadata": {},
     "output_type": "execute_result"
    }
   ],
   "source": [
    "# List of columns\n",
    "df_sk.columns"
   ]
  },
  {
   "cell_type": "code",
   "execution_count": 10,
   "metadata": {},
   "outputs": [
    {
     "data": {
      "text/plain": [
       "Index(['Year', 'Risk Area / R.M.', 'Crop', 'Soil', 'Farms', 'Acres',\n",
       "       'Yield/acre(Metric)', 'Yield/acre(Metric).1', 'Yield/acre(Imperial)'],\n",
       "      dtype='object')"
      ]
     },
     "execution_count": 10,
     "metadata": {},
     "output_type": "execute_result"
    }
   ],
   "source": [
    "# List of columns\n",
    "df_mb.columns"
   ]
  },
  {
   "cell_type": "code",
   "execution_count": 11,
   "metadata": {},
   "outputs": [
    {
     "name": "stdout",
     "output_type": "stream",
     "text": [
      "<class 'pandas.core.frame.DataFrame'>\n",
      "RangeIndex: 25312 entries, 0 to 25311\n",
      "Data columns (total 18 columns):\n",
      " #   Column        Non-Null Count  Dtype  \n",
      "---  ------        --------------  -----  \n",
      " 0   Year          25312 non-null  int64  \n",
      " 1   RM            25312 non-null  int64  \n",
      " 2   Winter Wheat  3073 non-null   float64\n",
      " 3   Canola        14299 non-null  float64\n",
      " 4   Spring Wheat  25213 non-null  float64\n",
      " 5   Mustard       4584 non-null   float64\n",
      " 6   Durum         11753 non-null  float64\n",
      " 7   Sunflowers    946 non-null    float64\n",
      " 8   Oats          24148 non-null  float64\n",
      " 9   Lentils       5711 non-null   float64\n",
      " 10  Peas          8421 non-null   float64\n",
      " 11  Barley        24987 non-null  float64\n",
      " 12  Fall Rye      15887 non-null  float64\n",
      " 13  Canary Seed   3880 non-null   float64\n",
      " 14  Spring Rye    805 non-null    float64\n",
      " 15  Tame Hay      4205 non-null   float64\n",
      " 16  Flax          21146 non-null  float64\n",
      " 17  Chickpeas     1014 non-null   float64\n",
      "dtypes: float64(16), int64(2)\n",
      "memory usage: 3.5 MB\n"
     ]
    }
   ],
   "source": [
    "# Info about columns\n",
    "df_sk.info()"
   ]
  },
  {
   "cell_type": "code",
   "execution_count": 12,
   "metadata": {},
   "outputs": [
    {
     "name": "stdout",
     "output_type": "stream",
     "text": [
      "<class 'pandas.core.frame.DataFrame'>\n",
      "RangeIndex: 79256 entries, 0 to 79255\n",
      "Data columns (total 9 columns):\n",
      " #   Column                Non-Null Count  Dtype \n",
      "---  ------                --------------  ----- \n",
      " 0   Year                  79256 non-null  int64 \n",
      " 1   Risk Area / R.M.      79256 non-null  object\n",
      " 2   Crop                  79256 non-null  object\n",
      " 3   Soil                  79256 non-null  object\n",
      " 4   Farms                 79256 non-null  object\n",
      " 5   Acres                 79256 non-null  object\n",
      " 6   Yield/acre(Metric)    79256 non-null  object\n",
      " 7   Yield/acre(Metric).1  38637 non-null  object\n",
      " 8   Yield/acre(Imperial)  38637 non-null  object\n",
      "dtypes: int64(1), object(8)\n",
      "memory usage: 5.4+ MB\n"
     ]
    }
   ],
   "source": [
    "# Info about columns\n",
    "df_mb.info()"
   ]
  },
  {
   "cell_type": "code",
   "execution_count": 13,
   "metadata": {},
   "outputs": [
    {
     "data": {
      "text/html": [
       "<div>\n",
       "<style scoped>\n",
       "    .dataframe tbody tr th:only-of-type {\n",
       "        vertical-align: middle;\n",
       "    }\n",
       "\n",
       "    .dataframe tbody tr th {\n",
       "        vertical-align: top;\n",
       "    }\n",
       "\n",
       "    .dataframe thead th {\n",
       "        text-align: right;\n",
       "    }\n",
       "</style>\n",
       "<table border=\"1\" class=\"dataframe\">\n",
       "  <thead>\n",
       "    <tr style=\"text-align: right;\">\n",
       "      <th></th>\n",
       "      <th>Year</th>\n",
       "      <th>RM</th>\n",
       "      <th>Winter Wheat</th>\n",
       "      <th>Canola</th>\n",
       "      <th>Spring Wheat</th>\n",
       "      <th>Mustard</th>\n",
       "      <th>Durum</th>\n",
       "      <th>Sunflowers</th>\n",
       "      <th>Oats</th>\n",
       "      <th>Lentils</th>\n",
       "      <th>Peas</th>\n",
       "      <th>Barley</th>\n",
       "      <th>Fall Rye</th>\n",
       "      <th>Canary Seed</th>\n",
       "      <th>Spring Rye</th>\n",
       "      <th>Tame Hay</th>\n",
       "      <th>Flax</th>\n",
       "      <th>Chickpeas</th>\n",
       "    </tr>\n",
       "  </thead>\n",
       "  <tbody>\n",
       "    <tr>\n",
       "      <th>0</th>\n",
       "      <td>1938</td>\n",
       "      <td>1</td>\n",
       "      <td>NaN</td>\n",
       "      <td>NaN</td>\n",
       "      <td>4.0</td>\n",
       "      <td>NaN</td>\n",
       "      <td>NaN</td>\n",
       "      <td>NaN</td>\n",
       "      <td>1.0</td>\n",
       "      <td>NaN</td>\n",
       "      <td>NaN</td>\n",
       "      <td>1.0</td>\n",
       "      <td>NaN</td>\n",
       "      <td>NaN</td>\n",
       "      <td>NaN</td>\n",
       "      <td>NaN</td>\n",
       "      <td>0.0</td>\n",
       "      <td>NaN</td>\n",
       "    </tr>\n",
       "    <tr>\n",
       "      <th>1</th>\n",
       "      <td>1939</td>\n",
       "      <td>1</td>\n",
       "      <td>NaN</td>\n",
       "      <td>NaN</td>\n",
       "      <td>9.0</td>\n",
       "      <td>NaN</td>\n",
       "      <td>NaN</td>\n",
       "      <td>NaN</td>\n",
       "      <td>16.0</td>\n",
       "      <td>NaN</td>\n",
       "      <td>NaN</td>\n",
       "      <td>16.0</td>\n",
       "      <td>NaN</td>\n",
       "      <td>NaN</td>\n",
       "      <td>NaN</td>\n",
       "      <td>NaN</td>\n",
       "      <td>0.0</td>\n",
       "      <td>NaN</td>\n",
       "    </tr>\n",
       "    <tr>\n",
       "      <th>2</th>\n",
       "      <td>1940</td>\n",
       "      <td>1</td>\n",
       "      <td>NaN</td>\n",
       "      <td>NaN</td>\n",
       "      <td>12.0</td>\n",
       "      <td>NaN</td>\n",
       "      <td>NaN</td>\n",
       "      <td>NaN</td>\n",
       "      <td>23.0</td>\n",
       "      <td>NaN</td>\n",
       "      <td>NaN</td>\n",
       "      <td>19.0</td>\n",
       "      <td>NaN</td>\n",
       "      <td>NaN</td>\n",
       "      <td>NaN</td>\n",
       "      <td>NaN</td>\n",
       "      <td>8.0</td>\n",
       "      <td>NaN</td>\n",
       "    </tr>\n",
       "    <tr>\n",
       "      <th>3</th>\n",
       "      <td>1941</td>\n",
       "      <td>1</td>\n",
       "      <td>NaN</td>\n",
       "      <td>NaN</td>\n",
       "      <td>18.0</td>\n",
       "      <td>NaN</td>\n",
       "      <td>NaN</td>\n",
       "      <td>NaN</td>\n",
       "      <td>32.0</td>\n",
       "      <td>NaN</td>\n",
       "      <td>NaN</td>\n",
       "      <td>28.0</td>\n",
       "      <td>NaN</td>\n",
       "      <td>NaN</td>\n",
       "      <td>NaN</td>\n",
       "      <td>NaN</td>\n",
       "      <td>5.0</td>\n",
       "      <td>NaN</td>\n",
       "    </tr>\n",
       "    <tr>\n",
       "      <th>4</th>\n",
       "      <td>1942</td>\n",
       "      <td>1</td>\n",
       "      <td>NaN</td>\n",
       "      <td>NaN</td>\n",
       "      <td>20.0</td>\n",
       "      <td>NaN</td>\n",
       "      <td>NaN</td>\n",
       "      <td>NaN</td>\n",
       "      <td>35.0</td>\n",
       "      <td>NaN</td>\n",
       "      <td>NaN</td>\n",
       "      <td>28.0</td>\n",
       "      <td>14.0</td>\n",
       "      <td>NaN</td>\n",
       "      <td>NaN</td>\n",
       "      <td>NaN</td>\n",
       "      <td>5.0</td>\n",
       "      <td>NaN</td>\n",
       "    </tr>\n",
       "  </tbody>\n",
       "</table>\n",
       "</div>"
      ],
      "text/plain": [
       "   Year  RM  Winter Wheat  Canola  Spring Wheat  Mustard  Durum  Sunflowers  \\\n",
       "0  1938   1           NaN     NaN           4.0      NaN    NaN         NaN   \n",
       "1  1939   1           NaN     NaN           9.0      NaN    NaN         NaN   \n",
       "2  1940   1           NaN     NaN          12.0      NaN    NaN         NaN   \n",
       "3  1941   1           NaN     NaN          18.0      NaN    NaN         NaN   \n",
       "4  1942   1           NaN     NaN          20.0      NaN    NaN         NaN   \n",
       "\n",
       "   Oats  Lentils  Peas  Barley  Fall Rye  Canary Seed  Spring Rye  Tame Hay  \\\n",
       "0   1.0      NaN   NaN     1.0       NaN          NaN         NaN       NaN   \n",
       "1  16.0      NaN   NaN    16.0       NaN          NaN         NaN       NaN   \n",
       "2  23.0      NaN   NaN    19.0       NaN          NaN         NaN       NaN   \n",
       "3  32.0      NaN   NaN    28.0       NaN          NaN         NaN       NaN   \n",
       "4  35.0      NaN   NaN    28.0      14.0          NaN         NaN       NaN   \n",
       "\n",
       "   Flax  Chickpeas  \n",
       "0   0.0        NaN  \n",
       "1   0.0        NaN  \n",
       "2   8.0        NaN  \n",
       "3   5.0        NaN  \n",
       "4   5.0        NaN  "
      ]
     },
     "execution_count": 13,
     "metadata": {},
     "output_type": "execute_result"
    }
   ],
   "source": [
    "# Table heads\n",
    "df_sk.head()"
   ]
  },
  {
   "cell_type": "code",
   "execution_count": 14,
   "metadata": {},
   "outputs": [
    {
     "data": {
      "text/html": [
       "<div>\n",
       "<style scoped>\n",
       "    .dataframe tbody tr th:only-of-type {\n",
       "        vertical-align: middle;\n",
       "    }\n",
       "\n",
       "    .dataframe tbody tr th {\n",
       "        vertical-align: top;\n",
       "    }\n",
       "\n",
       "    .dataframe thead th {\n",
       "        text-align: right;\n",
       "    }\n",
       "</style>\n",
       "<table border=\"1\" class=\"dataframe\">\n",
       "  <thead>\n",
       "    <tr style=\"text-align: right;\">\n",
       "      <th></th>\n",
       "      <th>Year</th>\n",
       "      <th>Risk Area / R.M.</th>\n",
       "      <th>Crop</th>\n",
       "      <th>Soil</th>\n",
       "      <th>Farms</th>\n",
       "      <th>Acres</th>\n",
       "      <th>Yield/acre(Metric)</th>\n",
       "      <th>Yield/acre(Metric).1</th>\n",
       "      <th>Yield/acre(Imperial)</th>\n",
       "    </tr>\n",
       "  </thead>\n",
       "  <tbody>\n",
       "    <tr>\n",
       "      <th>0</th>\n",
       "      <td>2003</td>\n",
       "      <td>MONTCALM</td>\n",
       "      <td>CANARYSEED</td>\n",
       "      <td>D</td>\n",
       "      <td>7</td>\n",
       "      <td>764</td>\n",
       "      <td>0.452 Tonnes</td>\n",
       "      <td>Tonnes</td>\n",
       "      <td>997 Pounds</td>\n",
       "    </tr>\n",
       "    <tr>\n",
       "      <th>1</th>\n",
       "      <td>1998</td>\n",
       "      <td>HAMIOTA</td>\n",
       "      <td>LENTILS</td>\n",
       "      <td>B</td>\n",
       "      <td>8</td>\n",
       "      <td>1,835.0</td>\n",
       "      <td>0.451 Tonnes</td>\n",
       "      <td>Tonnes</td>\n",
       "      <td>994 Pounds</td>\n",
       "    </tr>\n",
       "    <tr>\n",
       "      <th>2</th>\n",
       "      <td>2005</td>\n",
       "      <td>THOMPSON</td>\n",
       "      <td>WHITE PEA BEANS</td>\n",
       "      <td>E</td>\n",
       "      <td>11</td>\n",
       "      <td>1,253.0</td>\n",
       "      <td>0.451 Tonnes</td>\n",
       "      <td>Tonnes</td>\n",
       "      <td>994 Pounds</td>\n",
       "    </tr>\n",
       "    <tr>\n",
       "      <th>3</th>\n",
       "      <td>1997</td>\n",
       "      <td>RHINELAND</td>\n",
       "      <td>WHITE PEA BEANS</td>\n",
       "      <td>C</td>\n",
       "      <td>29</td>\n",
       "      <td>3,399.0</td>\n",
       "      <td>0.450 Tonnes</td>\n",
       "      <td>Tonnes</td>\n",
       "      <td>992 Pounds</td>\n",
       "    </tr>\n",
       "    <tr>\n",
       "      <th>4</th>\n",
       "      <td>2004</td>\n",
       "      <td>PIPESTONE</td>\n",
       "      <td>CANARYSEED</td>\n",
       "      <td>F</td>\n",
       "      <td>8</td>\n",
       "      <td>1,180.0</td>\n",
       "      <td>0.449 Tonnes</td>\n",
       "      <td>Tonnes</td>\n",
       "      <td>991 Pounds</td>\n",
       "    </tr>\n",
       "  </tbody>\n",
       "</table>\n",
       "</div>"
      ],
      "text/plain": [
       "   Year Risk Area / R.M.             Crop Soil Farms    Acres  \\\n",
       "0  2003         MONTCALM       CANARYSEED    D     7      764   \n",
       "1  1998          HAMIOTA          LENTILS    B     8  1,835.0   \n",
       "2  2005         THOMPSON  WHITE PEA BEANS    E    11  1,253.0   \n",
       "3  1997        RHINELAND  WHITE PEA BEANS    C    29  3,399.0   \n",
       "4  2004        PIPESTONE       CANARYSEED    F     8  1,180.0   \n",
       "\n",
       "  Yield/acre(Metric) Yield/acre(Metric).1 Yield/acre(Imperial)  \n",
       "0       0.452 Tonnes               Tonnes           997 Pounds  \n",
       "1       0.451 Tonnes               Tonnes           994 Pounds  \n",
       "2       0.451 Tonnes               Tonnes           994 Pounds  \n",
       "3       0.450 Tonnes               Tonnes           992 Pounds  \n",
       "4       0.449 Tonnes               Tonnes           991 Pounds  "
      ]
     },
     "execution_count": 14,
     "metadata": {},
     "output_type": "execute_result"
    }
   ],
   "source": [
    "# Table heads\n",
    "df_mb.head()"
   ]
  },
  {
   "cell_type": "code",
   "execution_count": 15,
   "metadata": {},
   "outputs": [],
   "source": [
    "df_mb['Yield/acre(Metric)']=df_mb['Yield/acre(Metric)'].str.replace(' Tonnes', '') # Replacing Tonnes\n",
    "df_mb['Yield/acre(Metric)']=df_mb['Yield/acre(Metric)'].replace('Tolerance', np.NaN) # Replacing Tolerance\n",
    "df_mb['Yield/acre(Metric)']=df_mb['Yield/acre(Metric)'].astype(float) # changing object to float data type"
   ]
  },
  {
   "cell_type": "code",
   "execution_count": 16,
   "metadata": {},
   "outputs": [],
   "source": [
    "df_mb_pivot=pd.pivot_table(df_mb.drop(columns=['Yield/acre(Metric).1', 'Yield/acre(Imperial)', 'Soil', 'Farms' ]),\n",
    "               index=['Risk Area / R.M.', 'Year'], columns='Crop', values='Yield/acre(Metric)')\\\n",
    "               .reset_index()"
   ]
  },
  {
   "cell_type": "code",
   "execution_count": 17,
   "metadata": {},
   "outputs": [
    {
     "data": {
      "text/plain": [
       "Index(['Year', 'RM', 'Winter Wheat', 'Canola', 'Spring Wheat', 'Mustard',\n",
       "       'Durum', 'Sunflowers', 'Oats', 'Lentils', 'Peas', 'Barley', 'Fall Rye',\n",
       "       'Canary Seed', 'Spring Rye', 'Tame Hay', 'Flax', 'Chickpeas'],\n",
       "      dtype='object')"
      ]
     },
     "execution_count": 17,
     "metadata": {},
     "output_type": "execute_result"
    }
   ],
   "source": [
    "df_sk.columns"
   ]
  },
  {
   "cell_type": "code",
   "execution_count": 18,
   "metadata": {},
   "outputs": [
    {
     "data": {
      "text/plain": [
       "Index(['Risk Area / R.M.', 'Year', 'ALFALFA', 'ARGENTINE CANOLA', 'BARLEY',\n",
       "       'CANARYSEED', 'DURUM WHEAT', 'FABABEANS', 'LENTILS', 'OATS',\n",
       "       'POLISH CANOLA', 'RED SPRING WHEAT', 'WHITE PEA BEANS'],\n",
       "      dtype='object', name='Crop')"
      ]
     },
     "execution_count": 18,
     "metadata": {},
     "output_type": "execute_result"
    }
   ],
   "source": [
    "df_mb_pivot.columns"
   ]
  },
  {
   "cell_type": "code",
   "execution_count": 19,
   "metadata": {},
   "outputs": [],
   "source": [
    "df_mb_clean=df_mb_pivot.rename(columns={\n",
    "    'Risk Area / R.M.': 'RM', \n",
    "    'ARGENTINE CANOLA': 'Canola', \n",
    "    'BARLEY':'Barley',\n",
    "    'CANARYSEED': 'Canary Seed', \n",
    "    'DURUM WHEAT': 'Durum Wheat', \n",
    "     'LENTILS': 'Lentils', \n",
    "     'OATS': 'Oats',\n",
    "    'RED SPRING WHEAT': 'Spring Wheat', \n",
    "    'WHITE PEA BEANS': 'Peas'}) \\\n",
    "        .drop(columns=['ALFALFA', 'FABABEANS', 'FABABEANS', 'POLISH CANOLA'] )"
   ]
  },
  {
   "cell_type": "code",
   "execution_count": 20,
   "metadata": {},
   "outputs": [],
   "source": [
    "df_sk_clean=df_sk.rename(columns={'Durum': 'Durum Wheat'}).drop(columns=['Winter Wheat', 'Mustard', 'Sunflowers', 'Fall Rye', 'Spring Rye', 'Tame Hay','Flax', 'Chickpeas' ] )"
   ]
  },
  {
   "cell_type": "code",
   "execution_count": 21,
   "metadata": {},
   "outputs": [
    {
     "data": {
      "text/html": [
       "<div>\n",
       "<style scoped>\n",
       "    .dataframe tbody tr th:only-of-type {\n",
       "        vertical-align: middle;\n",
       "    }\n",
       "\n",
       "    .dataframe tbody tr th {\n",
       "        vertical-align: top;\n",
       "    }\n",
       "\n",
       "    .dataframe thead th {\n",
       "        text-align: right;\n",
       "    }\n",
       "</style>\n",
       "<table border=\"1\" class=\"dataframe\">\n",
       "  <thead>\n",
       "    <tr style=\"text-align: right;\">\n",
       "      <th></th>\n",
       "      <th>Year</th>\n",
       "      <th>RM</th>\n",
       "      <th>Canola</th>\n",
       "      <th>Spring Wheat</th>\n",
       "      <th>Durum Wheat</th>\n",
       "      <th>Oats</th>\n",
       "      <th>Lentils</th>\n",
       "      <th>Peas</th>\n",
       "      <th>Barley</th>\n",
       "      <th>Canary Seed</th>\n",
       "    </tr>\n",
       "  </thead>\n",
       "  <tbody>\n",
       "    <tr>\n",
       "      <th>0</th>\n",
       "      <td>1938</td>\n",
       "      <td>1</td>\n",
       "      <td>NaN</td>\n",
       "      <td>4.0</td>\n",
       "      <td>NaN</td>\n",
       "      <td>1.0</td>\n",
       "      <td>NaN</td>\n",
       "      <td>NaN</td>\n",
       "      <td>1.0</td>\n",
       "      <td>NaN</td>\n",
       "    </tr>\n",
       "    <tr>\n",
       "      <th>1</th>\n",
       "      <td>1939</td>\n",
       "      <td>1</td>\n",
       "      <td>NaN</td>\n",
       "      <td>9.0</td>\n",
       "      <td>NaN</td>\n",
       "      <td>16.0</td>\n",
       "      <td>NaN</td>\n",
       "      <td>NaN</td>\n",
       "      <td>16.0</td>\n",
       "      <td>NaN</td>\n",
       "    </tr>\n",
       "    <tr>\n",
       "      <th>2</th>\n",
       "      <td>1940</td>\n",
       "      <td>1</td>\n",
       "      <td>NaN</td>\n",
       "      <td>12.0</td>\n",
       "      <td>NaN</td>\n",
       "      <td>23.0</td>\n",
       "      <td>NaN</td>\n",
       "      <td>NaN</td>\n",
       "      <td>19.0</td>\n",
       "      <td>NaN</td>\n",
       "    </tr>\n",
       "    <tr>\n",
       "      <th>3</th>\n",
       "      <td>1941</td>\n",
       "      <td>1</td>\n",
       "      <td>NaN</td>\n",
       "      <td>18.0</td>\n",
       "      <td>NaN</td>\n",
       "      <td>32.0</td>\n",
       "      <td>NaN</td>\n",
       "      <td>NaN</td>\n",
       "      <td>28.0</td>\n",
       "      <td>NaN</td>\n",
       "    </tr>\n",
       "    <tr>\n",
       "      <th>4</th>\n",
       "      <td>1942</td>\n",
       "      <td>1</td>\n",
       "      <td>NaN</td>\n",
       "      <td>20.0</td>\n",
       "      <td>NaN</td>\n",
       "      <td>35.0</td>\n",
       "      <td>NaN</td>\n",
       "      <td>NaN</td>\n",
       "      <td>28.0</td>\n",
       "      <td>NaN</td>\n",
       "    </tr>\n",
       "    <tr>\n",
       "      <th>...</th>\n",
       "      <td>...</td>\n",
       "      <td>...</td>\n",
       "      <td>...</td>\n",
       "      <td>...</td>\n",
       "      <td>...</td>\n",
       "      <td>...</td>\n",
       "      <td>...</td>\n",
       "      <td>...</td>\n",
       "      <td>...</td>\n",
       "      <td>...</td>\n",
       "    </tr>\n",
       "    <tr>\n",
       "      <th>25307</th>\n",
       "      <td>2018</td>\n",
       "      <td>622</td>\n",
       "      <td>39.3</td>\n",
       "      <td>59.5</td>\n",
       "      <td>NaN</td>\n",
       "      <td>96.4</td>\n",
       "      <td>NaN</td>\n",
       "      <td>43.0</td>\n",
       "      <td>54.0</td>\n",
       "      <td>NaN</td>\n",
       "    </tr>\n",
       "    <tr>\n",
       "      <th>25308</th>\n",
       "      <td>2019</td>\n",
       "      <td>622</td>\n",
       "      <td>46.1</td>\n",
       "      <td>63.9</td>\n",
       "      <td>NaN</td>\n",
       "      <td>106.0</td>\n",
       "      <td>NaN</td>\n",
       "      <td>33.7</td>\n",
       "      <td>73.9</td>\n",
       "      <td>NaN</td>\n",
       "    </tr>\n",
       "    <tr>\n",
       "      <th>25309</th>\n",
       "      <td>2020</td>\n",
       "      <td>622</td>\n",
       "      <td>40.9</td>\n",
       "      <td>55.1</td>\n",
       "      <td>NaN</td>\n",
       "      <td>94.5</td>\n",
       "      <td>NaN</td>\n",
       "      <td>49.2</td>\n",
       "      <td>74.3</td>\n",
       "      <td>NaN</td>\n",
       "    </tr>\n",
       "    <tr>\n",
       "      <th>25310</th>\n",
       "      <td>2021</td>\n",
       "      <td>622</td>\n",
       "      <td>23.9</td>\n",
       "      <td>17.0</td>\n",
       "      <td>NaN</td>\n",
       "      <td>25.8</td>\n",
       "      <td>NaN</td>\n",
       "      <td>NaN</td>\n",
       "      <td>23.3</td>\n",
       "      <td>NaN</td>\n",
       "    </tr>\n",
       "    <tr>\n",
       "      <th>25311</th>\n",
       "      <td>2022</td>\n",
       "      <td>622</td>\n",
       "      <td>44.4</td>\n",
       "      <td>66.8</td>\n",
       "      <td>NaN</td>\n",
       "      <td>93.0</td>\n",
       "      <td>NaN</td>\n",
       "      <td>NaN</td>\n",
       "      <td>76.9</td>\n",
       "      <td>NaN</td>\n",
       "    </tr>\n",
       "  </tbody>\n",
       "</table>\n",
       "<p>25312 rows × 10 columns</p>\n",
       "</div>"
      ],
      "text/plain": [
       "       Year   RM  Canola  Spring Wheat  Durum Wheat   Oats  Lentils  Peas  \\\n",
       "0      1938    1     NaN           4.0          NaN    1.0      NaN   NaN   \n",
       "1      1939    1     NaN           9.0          NaN   16.0      NaN   NaN   \n",
       "2      1940    1     NaN          12.0          NaN   23.0      NaN   NaN   \n",
       "3      1941    1     NaN          18.0          NaN   32.0      NaN   NaN   \n",
       "4      1942    1     NaN          20.0          NaN   35.0      NaN   NaN   \n",
       "...     ...  ...     ...           ...          ...    ...      ...   ...   \n",
       "25307  2018  622    39.3          59.5          NaN   96.4      NaN  43.0   \n",
       "25308  2019  622    46.1          63.9          NaN  106.0      NaN  33.7   \n",
       "25309  2020  622    40.9          55.1          NaN   94.5      NaN  49.2   \n",
       "25310  2021  622    23.9          17.0          NaN   25.8      NaN   NaN   \n",
       "25311  2022  622    44.4          66.8          NaN   93.0      NaN   NaN   \n",
       "\n",
       "       Barley  Canary Seed  \n",
       "0         1.0          NaN  \n",
       "1        16.0          NaN  \n",
       "2        19.0          NaN  \n",
       "3        28.0          NaN  \n",
       "4        28.0          NaN  \n",
       "...       ...          ...  \n",
       "25307    54.0          NaN  \n",
       "25308    73.9          NaN  \n",
       "25309    74.3          NaN  \n",
       "25310    23.3          NaN  \n",
       "25311    76.9          NaN  \n",
       "\n",
       "[25312 rows x 10 columns]"
      ]
     },
     "execution_count": 21,
     "metadata": {},
     "output_type": "execute_result"
    }
   ],
   "source": [
    "df_sk_clean"
   ]
  },
  {
   "cell_type": "code",
   "execution_count": 22,
   "metadata": {},
   "outputs": [
    {
     "data": {
      "text/html": [
       "<div>\n",
       "<style scoped>\n",
       "    .dataframe tbody tr th:only-of-type {\n",
       "        vertical-align: middle;\n",
       "    }\n",
       "\n",
       "    .dataframe tbody tr th {\n",
       "        vertical-align: top;\n",
       "    }\n",
       "\n",
       "    .dataframe thead th {\n",
       "        text-align: right;\n",
       "    }\n",
       "</style>\n",
       "<table border=\"1\" class=\"dataframe\">\n",
       "  <thead>\n",
       "    <tr style=\"text-align: right;\">\n",
       "      <th>Crop</th>\n",
       "      <th>RM</th>\n",
       "      <th>Year</th>\n",
       "      <th>Canola</th>\n",
       "      <th>Barley</th>\n",
       "      <th>Canary Seed</th>\n",
       "      <th>Durum Wheat</th>\n",
       "      <th>Lentils</th>\n",
       "      <th>Oats</th>\n",
       "      <th>Spring Wheat</th>\n",
       "      <th>Peas</th>\n",
       "    </tr>\n",
       "  </thead>\n",
       "  <tbody>\n",
       "    <tr>\n",
       "      <th>0</th>\n",
       "      <td>ALEXANDER</td>\n",
       "      <td>1993</td>\n",
       "      <td>0.251000</td>\n",
       "      <td>NaN</td>\n",
       "      <td>NaN</td>\n",
       "      <td>NaN</td>\n",
       "      <td>NaN</td>\n",
       "      <td>NaN</td>\n",
       "      <td>0.338000</td>\n",
       "      <td>NaN</td>\n",
       "    </tr>\n",
       "    <tr>\n",
       "      <th>1</th>\n",
       "      <td>ALEXANDER</td>\n",
       "      <td>1994</td>\n",
       "      <td>0.289000</td>\n",
       "      <td>NaN</td>\n",
       "      <td>NaN</td>\n",
       "      <td>NaN</td>\n",
       "      <td>NaN</td>\n",
       "      <td>NaN</td>\n",
       "      <td>0.587333</td>\n",
       "      <td>NaN</td>\n",
       "    </tr>\n",
       "    <tr>\n",
       "      <th>2</th>\n",
       "      <td>ALEXANDER</td>\n",
       "      <td>1995</td>\n",
       "      <td>0.620000</td>\n",
       "      <td>NaN</td>\n",
       "      <td>NaN</td>\n",
       "      <td>NaN</td>\n",
       "      <td>NaN</td>\n",
       "      <td>NaN</td>\n",
       "      <td>0.669500</td>\n",
       "      <td>NaN</td>\n",
       "    </tr>\n",
       "    <tr>\n",
       "      <th>3</th>\n",
       "      <td>ALEXANDER</td>\n",
       "      <td>1996</td>\n",
       "      <td>0.755333</td>\n",
       "      <td>1.6955</td>\n",
       "      <td>0.212</td>\n",
       "      <td>NaN</td>\n",
       "      <td>NaN</td>\n",
       "      <td>0.956000</td>\n",
       "      <td>0.976500</td>\n",
       "      <td>NaN</td>\n",
       "    </tr>\n",
       "    <tr>\n",
       "      <th>4</th>\n",
       "      <td>ALEXANDER</td>\n",
       "      <td>1997</td>\n",
       "      <td>0.651333</td>\n",
       "      <td>NaN</td>\n",
       "      <td>NaN</td>\n",
       "      <td>NaN</td>\n",
       "      <td>NaN</td>\n",
       "      <td>1.184000</td>\n",
       "      <td>0.971750</td>\n",
       "      <td>NaN</td>\n",
       "    </tr>\n",
       "    <tr>\n",
       "      <th>...</th>\n",
       "      <td>...</td>\n",
       "      <td>...</td>\n",
       "      <td>...</td>\n",
       "      <td>...</td>\n",
       "      <td>...</td>\n",
       "      <td>...</td>\n",
       "      <td>...</td>\n",
       "      <td>...</td>\n",
       "      <td>...</td>\n",
       "      <td>...</td>\n",
       "    </tr>\n",
       "    <tr>\n",
       "      <th>2800</th>\n",
       "      <td>YELLOWHEAD</td>\n",
       "      <td>2018</td>\n",
       "      <td>1.122333</td>\n",
       "      <td>1.9260</td>\n",
       "      <td>NaN</td>\n",
       "      <td>NaN</td>\n",
       "      <td>NaN</td>\n",
       "      <td>2.094000</td>\n",
       "      <td>1.857333</td>\n",
       "      <td>NaN</td>\n",
       "    </tr>\n",
       "    <tr>\n",
       "      <th>2801</th>\n",
       "      <td>YELLOWHEAD</td>\n",
       "      <td>2019</td>\n",
       "      <td>0.963500</td>\n",
       "      <td>1.8620</td>\n",
       "      <td>NaN</td>\n",
       "      <td>NaN</td>\n",
       "      <td>NaN</td>\n",
       "      <td>1.740500</td>\n",
       "      <td>1.660000</td>\n",
       "      <td>NaN</td>\n",
       "    </tr>\n",
       "    <tr>\n",
       "      <th>2802</th>\n",
       "      <td>YELLOWHEAD</td>\n",
       "      <td>2020</td>\n",
       "      <td>0.968000</td>\n",
       "      <td>1.9245</td>\n",
       "      <td>NaN</td>\n",
       "      <td>NaN</td>\n",
       "      <td>NaN</td>\n",
       "      <td>1.725667</td>\n",
       "      <td>1.631667</td>\n",
       "      <td>NaN</td>\n",
       "    </tr>\n",
       "    <tr>\n",
       "      <th>2803</th>\n",
       "      <td>YELLOWHEAD</td>\n",
       "      <td>2021</td>\n",
       "      <td>0.888000</td>\n",
       "      <td>1.7200</td>\n",
       "      <td>NaN</td>\n",
       "      <td>NaN</td>\n",
       "      <td>NaN</td>\n",
       "      <td>1.651500</td>\n",
       "      <td>1.582000</td>\n",
       "      <td>NaN</td>\n",
       "    </tr>\n",
       "    <tr>\n",
       "      <th>2804</th>\n",
       "      <td>YELLOWHEAD</td>\n",
       "      <td>2022</td>\n",
       "      <td>1.010500</td>\n",
       "      <td>1.7690</td>\n",
       "      <td>NaN</td>\n",
       "      <td>NaN</td>\n",
       "      <td>NaN</td>\n",
       "      <td>1.991500</td>\n",
       "      <td>1.645000</td>\n",
       "      <td>NaN</td>\n",
       "    </tr>\n",
       "  </tbody>\n",
       "</table>\n",
       "<p>2805 rows × 10 columns</p>\n",
       "</div>"
      ],
      "text/plain": [
       "Crop          RM  Year    Canola  Barley  Canary Seed  Durum Wheat  Lentils  \\\n",
       "0      ALEXANDER  1993  0.251000     NaN          NaN          NaN      NaN   \n",
       "1      ALEXANDER  1994  0.289000     NaN          NaN          NaN      NaN   \n",
       "2      ALEXANDER  1995  0.620000     NaN          NaN          NaN      NaN   \n",
       "3      ALEXANDER  1996  0.755333  1.6955        0.212          NaN      NaN   \n",
       "4      ALEXANDER  1997  0.651333     NaN          NaN          NaN      NaN   \n",
       "...          ...   ...       ...     ...          ...          ...      ...   \n",
       "2800  YELLOWHEAD  2018  1.122333  1.9260          NaN          NaN      NaN   \n",
       "2801  YELLOWHEAD  2019  0.963500  1.8620          NaN          NaN      NaN   \n",
       "2802  YELLOWHEAD  2020  0.968000  1.9245          NaN          NaN      NaN   \n",
       "2803  YELLOWHEAD  2021  0.888000  1.7200          NaN          NaN      NaN   \n",
       "2804  YELLOWHEAD  2022  1.010500  1.7690          NaN          NaN      NaN   \n",
       "\n",
       "Crop      Oats  Spring Wheat  Peas  \n",
       "0          NaN      0.338000   NaN  \n",
       "1          NaN      0.587333   NaN  \n",
       "2          NaN      0.669500   NaN  \n",
       "3     0.956000      0.976500   NaN  \n",
       "4     1.184000      0.971750   NaN  \n",
       "...        ...           ...   ...  \n",
       "2800  2.094000      1.857333   NaN  \n",
       "2801  1.740500      1.660000   NaN  \n",
       "2802  1.725667      1.631667   NaN  \n",
       "2803  1.651500      1.582000   NaN  \n",
       "2804  1.991500      1.645000   NaN  \n",
       "\n",
       "[2805 rows x 10 columns]"
      ]
     },
     "execution_count": 22,
     "metadata": {},
     "output_type": "execute_result"
    }
   ],
   "source": [
    "df_mb_clean"
   ]
  },
  {
   "cell_type": "code",
   "execution_count": 23,
   "metadata": {},
   "outputs": [],
   "source": [
    "# Crop conversion in MB tonnes to bushel\n",
    "df_mb_clean['Canola']=df_mb_clean['Canola'] * 44.092\n",
    "df_mb_clean['Barley']=df_mb_clean['Barley'] * 45.93\n",
    "df_mb_clean['Canary Seed']=df_mb_clean['Canary Seed'] * 44.092\n",
    "df_mb_clean['Durum Wheat']=df_mb_clean['Durum Wheat'] * 36.74\n",
    "df_mb_clean['Lentils']=df_mb_clean['Lentils'] * 36.74\n",
    "df_mb_clean['Oats']=df_mb_clean['Oats'] * 64.842\n",
    "df_mb_clean['Spring Wheat']=df_mb_clean['Spring Wheat'] * 36.74\n",
    "df_mb_clean['Peas']=df_mb_clean['Peas'] *  36.74\n"
   ]
  },
  {
   "cell_type": "code",
   "execution_count": 24,
   "metadata": {},
   "outputs": [],
   "source": [
    "# Crop Conversion in SK - pounds to bushels\n",
    "df_sk_clean['Lentils']=df_sk_clean['Lentils'] / 60\n",
    "df_sk_clean['Canary Seed']=df_sk_clean['Canary Seed'] / 50"
   ]
  },
  {
   "cell_type": "code",
   "execution_count": 25,
   "metadata": {},
   "outputs": [],
   "source": [
    "# Creating province column\n",
    "df_mb_clean['Province'] = 'MB'\n",
    "df_sk_clean['Province'] = 'SK'"
   ]
  },
  {
   "cell_type": "code",
   "execution_count": 26,
   "metadata": {},
   "outputs": [],
   "source": [
    "# More like copy paste in excel under existing data. Make sure column names are the same\n",
    "df = pd.concat([df_mb_clean, df_sk_clean])"
   ]
  },
  {
   "cell_type": "markdown",
   "metadata": {},
   "source": [
    "# EDA(Exploratory Data Analysis)"
   ]
  },
  {
   "cell_type": "markdown",
   "metadata": {},
   "source": [
    "## Missing Values"
   ]
  },
  {
   "cell_type": "code",
   "execution_count": 22,
   "metadata": {},
   "outputs": [
    {
     "ename": "NameError",
     "evalue": "name 'df' is not defined",
     "output_type": "error",
     "traceback": [
      "\u001b[1;31m---------------------------------------------------------------------------\u001b[0m",
      "\u001b[1;31mNameError\u001b[0m                                 Traceback (most recent call last)",
      "Cell \u001b[1;32mIn[22], line 1\u001b[0m\n\u001b[1;32m----> 1\u001b[0m \u001b[43mdf\u001b[49m\u001b[38;5;241m.\u001b[39misna()\u001b[38;5;241m.\u001b[39msum()\u001b[38;5;241m.\u001b[39msort_values()\u001b[38;5;241m.\u001b[39mplot(kind\u001b[38;5;241m=\u001b[39m\u001b[38;5;124m'\u001b[39m\u001b[38;5;124mbar\u001b[39m\u001b[38;5;124m'\u001b[39m, color\u001b[38;5;241m=\u001b[39m\u001b[38;5;124m'\u001b[39m\u001b[38;5;124mgreen\u001b[39m\u001b[38;5;124m'\u001b[39m)\n\u001b[0;32m      2\u001b[0m plt\u001b[38;5;241m.\u001b[39mtitle(\u001b[38;5;124m'\u001b[39m\u001b[38;5;124mMissing Values- 1938 to 2022\u001b[39m\u001b[38;5;124m'\u001b[39m, color\u001b[38;5;241m=\u001b[39m\u001b[38;5;124m'\u001b[39m\u001b[38;5;124mGray\u001b[39m\u001b[38;5;124m'\u001b[39m)\n\u001b[0;32m      3\u001b[0m plt\u001b[38;5;241m.\u001b[39mxlabel(\u001b[38;5;124m'\u001b[39m\u001b[38;5;124mCrops\u001b[39m\u001b[38;5;124m'\u001b[39m)\n",
      "\u001b[1;31mNameError\u001b[0m: name 'df' is not defined"
     ]
    }
   ],
   "source": [
    "df.isna().sum().sort_values().plot(kind='bar', color='green')\n",
    "plt.title('Missing Values- 1938 to 2022', color='Gray')\n",
    "plt.xlabel('Crops')\n",
    "plt.ylabel('# of Missing values')\n",
    "plt.axhline(len(df)/2, linestyle='--', color='red')\n",
    "plt.axhline(len(df)/4, linestyle='--', color='red')\n",
    "plt.axhline(len(df)/10, linestyle='--', color='red')\n",
    "plt.show()"
   ]
  },
  {
   "cell_type": "code",
   "execution_count": 20,
   "metadata": {},
   "outputs": [
    {
     "ename": "NameError",
     "evalue": "name 'df' is not defined",
     "output_type": "error",
     "traceback": [
      "\u001b[1;31m---------------------------------------------------------------------------\u001b[0m",
      "\u001b[1;31mNameError\u001b[0m                                 Traceback (most recent call last)",
      "Cell \u001b[1;32mIn[20], line 1\u001b[0m\n\u001b[1;32m----> 1\u001b[0m \u001b[43mdf\u001b[49m\u001b[38;5;241m.\u001b[39mloc[df[\u001b[38;5;124m'\u001b[39m\u001b[38;5;124mYear\u001b[39m\u001b[38;5;124m'\u001b[39m]\u001b[38;5;241m>\u001b[39m\u001b[38;5;241m2002\u001b[39m]\u001b[38;5;241m.\u001b[39misna()\u001b[38;5;241m.\u001b[39msum()\u001b[38;5;241m.\u001b[39msort_values()\u001b[38;5;241m.\u001b[39mplot(kind\u001b[38;5;241m=\u001b[39m\u001b[38;5;124m'\u001b[39m\u001b[38;5;124mbar\u001b[39m\u001b[38;5;124m'\u001b[39m, color\u001b[38;5;241m=\u001b[39m\u001b[38;5;124m'\u001b[39m\u001b[38;5;124mgreen\u001b[39m\u001b[38;5;124m'\u001b[39m)\n\u001b[0;32m      2\u001b[0m plt\u001b[38;5;241m.\u001b[39mtitle(\u001b[38;5;124m'\u001b[39m\u001b[38;5;124mMissing Values - 2002 to 2022\u001b[39m\u001b[38;5;124m'\u001b[39m)\n\u001b[0;32m      3\u001b[0m plt\u001b[38;5;241m.\u001b[39mxlabel(\u001b[38;5;124m'\u001b[39m\u001b[38;5;124mCrops\u001b[39m\u001b[38;5;124m'\u001b[39m)\n",
      "\u001b[1;31mNameError\u001b[0m: name 'df' is not defined"
     ]
    }
   ],
   "source": [
    "df.loc[df['Year']>2002].isna().sum().sort_values().plot(kind='bar', color='green')\n",
    "plt.title('Missing Values - 2002 to 2022')\n",
    "plt.xlabel('Crops')\n",
    "plt.ylabel('# of Missing values')\n",
    "plt.axhline(len(df)/2, linestyle='--', color='red')\n",
    "plt.axhline(len(df)/4, linestyle='--', color='red')\n",
    "plt.axhline(len(df)/10, linestyle='--', color='red')\n",
    "plt.show()"
   ]
  },
  {
   "cell_type": "markdown",
   "metadata": {},
   "source": [
    "## Outliers"
   ]
  },
  {
   "cell_type": "code",
   "execution_count": 29,
   "metadata": {},
   "outputs": [],
   "source": [
    "crop_columns=['Canola', 'Barley', 'Canary Seed', 'Durum Wheat',\n",
    "       'Lentils', 'Oats', 'Spring Wheat', 'Peas']"
   ]
  },
  {
   "cell_type": "markdown",
   "metadata": {},
   "source": [
    "## Histograms"
   ]
  },
  {
   "cell_type": "code",
   "execution_count": 21,
   "metadata": {},
   "outputs": [
    {
     "ename": "NameError",
     "evalue": "name 'df' is not defined",
     "output_type": "error",
     "traceback": [
      "\u001b[1;31m---------------------------------------------------------------------------\u001b[0m",
      "\u001b[1;31mNameError\u001b[0m                                 Traceback (most recent call last)",
      "Cell \u001b[1;32mIn[21], line 1\u001b[0m\n\u001b[1;32m----> 1\u001b[0m \u001b[43mdf\u001b[49m[crop_columns]\u001b[38;5;241m.\u001b[39mhist(bins\u001b[38;5;241m=\u001b[39m\u001b[38;5;241m300\u001b[39m)\n",
      "\u001b[1;31mNameError\u001b[0m: name 'df' is not defined"
     ]
    }
   ],
   "source": [
    "df[crop_columns].hist(bins=300)\n",
    "plt.show()"
   ]
  },
  {
   "cell_type": "code",
   "execution_count": 1,
   "metadata": {},
   "outputs": [],
   "source": [
    "sb.heatmap(df[crop_columns].corr(), annot=True)"
   ]
  },
  {
   "cell_type": "markdown",
   "metadata": {},
   "source": [
    "## Boxplots"
   ]
  },
  {
   "cell_type": "code",
   "execution_count": 2,
   "metadata": {},
   "outputs": [],
   "source": [
    "#df[crop_columns].boxplot()"
   ]
  },
  {
   "cell_type": "code",
   "execution_count": 33,
   "metadata": {},
   "outputs": [
    {
     "data": {
      "text/html": [
       "<div>\n",
       "<style scoped>\n",
       "    .dataframe tbody tr th:only-of-type {\n",
       "        vertical-align: middle;\n",
       "    }\n",
       "\n",
       "    .dataframe tbody tr th {\n",
       "        vertical-align: top;\n",
       "    }\n",
       "\n",
       "    .dataframe thead th {\n",
       "        text-align: right;\n",
       "    }\n",
       "</style>\n",
       "<table border=\"1\" class=\"dataframe\">\n",
       "  <thead>\n",
       "    <tr style=\"text-align: right;\">\n",
       "      <th></th>\n",
       "      <th>RM</th>\n",
       "      <th>Year</th>\n",
       "      <th>Canola</th>\n",
       "      <th>Barley</th>\n",
       "      <th>Canary Seed</th>\n",
       "      <th>Durum Wheat</th>\n",
       "      <th>Lentils</th>\n",
       "      <th>Oats</th>\n",
       "      <th>Spring Wheat</th>\n",
       "      <th>Peas</th>\n",
       "      <th>Province</th>\n",
       "    </tr>\n",
       "  </thead>\n",
       "  <tbody>\n",
       "    <tr>\n",
       "      <th>16215</th>\n",
       "      <td>314</td>\n",
       "      <td>2018</td>\n",
       "      <td>33.0</td>\n",
       "      <td>43.5</td>\n",
       "      <td>NaN</td>\n",
       "      <td>NaN</td>\n",
       "      <td>29.033333</td>\n",
       "      <td>41.0</td>\n",
       "      <td>198.0</td>\n",
       "      <td>35.0</td>\n",
       "      <td>SK</td>\n",
       "    </tr>\n",
       "  </tbody>\n",
       "</table>\n",
       "</div>"
      ],
      "text/plain": [
       "        RM  Year  Canola  Barley  Canary Seed  Durum Wheat    Lentils  Oats  \\\n",
       "16215  314  2018    33.0    43.5          NaN          NaN  29.033333  41.0   \n",
       "\n",
       "       Spring Wheat  Peas Province  \n",
       "16215         198.0  35.0       SK  "
      ]
     },
     "execution_count": 33,
     "metadata": {},
     "output_type": "execute_result"
    }
   ],
   "source": [
    "df.loc[df['Spring Wheat']>180]"
   ]
  },
  {
   "cell_type": "code",
   "execution_count": 3,
   "metadata": {},
   "outputs": [],
   "source": [
    "# Peorson Corr (-1 to 1), -1 negative corr, o no corr, 1 positive corr\n",
    "# Using Seaborn\n",
    "#sb.heatmap(df[crop_columns].corr(),annot=True, cmap='Greens')\n"
   ]
  },
  {
   "cell_type": "markdown",
   "metadata": {},
   "source": [
    "## GIS Analyis"
   ]
  },
  {
   "cell_type": "code",
   "execution_count": 35,
   "metadata": {},
   "outputs": [
    {
     "data": {
      "text/plain": [
       "<Projected CRS: EPSG:3857>\n",
       "Name: WGS 84 / Pseudo-Mercator\n",
       "Axis Info [cartesian]:\n",
       "- X[east]: Easting (metre)\n",
       "- Y[north]: Northing (metre)\n",
       "Area of Use:\n",
       "- name: World between 85.06°S and 85.06°N.\n",
       "- bounds: (-180.0, -85.06, 180.0, 85.06)\n",
       "Coordinate Operation:\n",
       "- name: Popular Visualisation Pseudo-Mercator\n",
       "- method: Popular Visualisation Pseudo Mercator\n",
       "Datum: World Geodetic System 1984 ensemble\n",
       "- Ellipsoid: WGS 84\n",
       "- Prime Meridian: Greenwich"
      ]
     },
     "execution_count": 35,
     "metadata": {},
     "output_type": "execute_result"
    }
   ],
   "source": [
    "# CRS --> Cordinate Reference Systems\n",
    "gdf_mb['geometry'].crs"
   ]
  },
  {
   "cell_type": "code",
   "execution_count": 36,
   "metadata": {},
   "outputs": [],
   "source": [
    "# Standardazing CRS formats\n",
    "gdf_sk['geometry']=gdf_sk['geometry'].to_crs('epsg:4326')\n",
    "gdf_mb['geometry']=gdf_mb['geometry'].to_crs('epsg:4326')"
   ]
  },
  {
   "cell_type": "code",
   "execution_count": 37,
   "metadata": {},
   "outputs": [],
   "source": [
    "# Renaming column name\n",
    "gdf_sk['RMNO']=gdf_sk['RMNO'].astype(int)"
   ]
  },
  {
   "cell_type": "code",
   "execution_count": 38,
   "metadata": {},
   "outputs": [
    {
     "name": "stdout",
     "output_type": "stream",
     "text": [
      "Index(['MUNI_NO', 'MUNI_NAME', 'MUNI_TYPE', 'Shape_Leng', 'Shape_Area', 'NAME',\n",
      "       'NAME_TYPE', 'geometry'],\n",
      "      dtype='object')\n"
     ]
    }
   ],
   "source": [
    "print(gdf_mb.columns)\n"
   ]
  },
  {
   "cell_type": "code",
   "execution_count": 39,
   "metadata": {},
   "outputs": [],
   "source": [
    "#set(gdf['RM'].unique()) - set(df_sk_clean['RM'].unique())"
   ]
  },
  {
   "cell_type": "code",
   "execution_count": 40,
   "metadata": {},
   "outputs": [],
   "source": [
    "gdf_mb['MUNI_NAME']=gdf_mb['MUNI_NAME'].str.replace('RM OF ','')"
   ]
  },
  {
   "cell_type": "code",
   "execution_count": 41,
   "metadata": {},
   "outputs": [],
   "source": [
    "gdf=pd.concat([gdf_sk[['RMNO','geometry']].rename(columns={'RMNO':'RM'}),gdf_mb[['MUNI_NAME', 'geometry']].rename(columns={'MUNI_NAME':'RM'})])"
   ]
  },
  {
   "cell_type": "code",
   "execution_count": 4,
   "metadata": {},
   "outputs": [],
   "source": [
    "#gdf.plot()\n",
    "#gdf.explore()"
   ]
  },
  {
   "cell_type": "code",
   "execution_count": 5,
   "metadata": {
    "tags": []
   },
   "outputs": [],
   "source": [
    "#gdf.explore()"
   ]
  },
  {
   "cell_type": "code",
   "execution_count": 44,
   "metadata": {},
   "outputs": [],
   "source": [
    "gdf['RM']=gdf['RM'].astype('string')\n",
    "df['RM']=df['RM'].astype('string')"
   ]
  },
  {
   "cell_type": "code",
   "execution_count": 45,
   "metadata": {},
   "outputs": [],
   "source": [
    "# SQL inner join\n",
    "df_gdf=pd.merge(gdf, df, on='RM', how='inner') "
   ]
  },
  {
   "cell_type": "code",
   "execution_count": 46,
   "metadata": {},
   "outputs": [
    {
     "name": "stdout",
     "output_type": "stream",
     "text": [
      "Before merging 481\n",
      "After merging 352\n"
     ]
    }
   ],
   "source": [
    "print('Before merging', gdf['RM'].nunique())\n",
    "print('After merging',df_gdf['RM'].nunique())"
   ]
  },
  {
   "cell_type": "code",
   "execution_count": 47,
   "metadata": {},
   "outputs": [],
   "source": [
    "ds=df_gdf.copy()"
   ]
  },
  {
   "cell_type": "markdown",
   "metadata": {},
   "source": [
    "### GIS Visualization"
   ]
  },
  {
   "cell_type": "markdown",
   "metadata": {},
   "source": [
    "#### Explore functiom"
   ]
  },
  {
   "cell_type": "code",
   "execution_count": 48,
   "metadata": {},
   "outputs": [],
   "source": [
    "m=ds.loc[ds['Year']==2021].explore(column='Canola', \n",
    "                                 legend=True,  \n",
    "                                 cmap='Greens',\n",
    "                                 tooltip= ['Canola', 'RM'],\n",
    "                                 tiles='Stamen Toner') # Plot() is good for showing up in GitHub, Explore() is good for interactive map and saving as HTML\n",
    "\n",
    "# Adding a title with dark orange color to the folium map\n",
    "title_html = '''\n",
    "                 <h3 align=\"center\" style=\"font-size:30px; color:Green;\"><b> Canola Yield in 2021 </b></h3>\n",
    "             '''\n",
    "m.get_root().html.add_child(folium.Element(title_html))\n",
    "m.save('C:\\\\Users\\\\adith\\\\LHLnotes\\\\Palette Final project\\\\Cohort 4\\\\Palette_Cohort_4\\\\Data\\\\Canola_2021.html')"
   ]
  },
  {
   "cell_type": "code",
   "execution_count": 6,
   "metadata": {},
   "outputs": [],
   "source": [
    "#m\n"
   ]
  },
  {
   "cell_type": "markdown",
   "metadata": {},
   "source": [
    "#### Plot"
   ]
  },
  {
   "cell_type": "code",
   "execution_count": 7,
   "metadata": {
    "tags": []
   },
   "outputs": [
    {
     "ename": "IndentationError",
     "evalue": "unexpected indent (391435067.py, line 2)",
     "output_type": "error",
     "traceback": [
      "\u001b[1;36m  Cell \u001b[1;32mIn[7], line 2\u001b[1;36m\u001b[0m\n\u001b[1;33m    legend=True,\u001b[0m\n\u001b[1;37m    ^\u001b[0m\n\u001b[1;31mIndentationError\u001b[0m\u001b[1;31m:\u001b[0m unexpected indent\n"
     ]
    }
   ],
   "source": [
    "ds.loc[ds['Year']==2021].plot(column='Canola', \n",
    "                                 legend=True,  \n",
    "                                 cmap='Greens')"
   ]
  },
  {
   "cell_type": "code",
   "execution_count": null,
   "metadata": {},
   "outputs": [],
   "source": []
  },
  {
   "cell_type": "code",
   "execution_count": null,
   "metadata": {},
   "outputs": [],
   "source": []
  },
  {
   "cell_type": "markdown",
   "metadata": {},
   "source": [
    "## Tableau"
   ]
  },
  {
   "cell_type": "raw",
   "metadata": {},
   "source": [
    "# Save as CSV\n",
    "df_gdf.drop(columns='geometry').to_csv('/Users/ruhidmirzayev/Palette/Data/Crops_Yield_1938_2022.csv')"
   ]
  },
  {
   "cell_type": "raw",
   "metadata": {},
   "source": [
    "\n",
    "df_gdf.loc[df_gdf['Year']==2020][['RM', 'geometry']]"
   ]
  },
  {
   "cell_type": "raw",
   "metadata": {},
   "source": [
    "# Save as GIS\n",
    "df_gdf.loc[df_gdf['Year']==2020][['RM', 'geometry']].to_file('/Users/ruhidmirzayev/Palette/Data/SK_MB_GIS_data.shp')"
   ]
  },
  {
   "cell_type": "markdown",
   "metadata": {},
   "source": [
    "## Aggragetions"
   ]
  },
  {
   "cell_type": "code",
   "execution_count": 51,
   "metadata": {},
   "outputs": [],
   "source": [
    "df_03_22=df.loc[df['Year']>2002].sort_values(['RM', 'Year'])"
   ]
  },
  {
   "cell_type": "code",
   "execution_count": 10,
   "metadata": {},
   "outputs": [
    {
     "ename": "NameError",
     "evalue": "name 'df_03_22' is not defined",
     "output_type": "error",
     "traceback": [
      "\u001b[1;31m---------------------------------------------------------------------------\u001b[0m",
      "\u001b[1;31mNameError\u001b[0m                                 Traceback (most recent call last)",
      "Cell \u001b[1;32mIn[10], line 4\u001b[0m\n\u001b[0;32m      1\u001b[0m \u001b[38;5;28;01mimport\u001b[39;00m \u001b[38;5;21;01mmatplotlib\u001b[39;00m\u001b[38;5;21;01m.\u001b[39;00m\u001b[38;5;21;01mpyplot\u001b[39;00m \u001b[38;5;28;01mas\u001b[39;00m \u001b[38;5;21;01mplt\u001b[39;00m\n\u001b[0;32m      3\u001b[0m fig, axes \u001b[38;5;241m=\u001b[39m plt\u001b[38;5;241m.\u001b[39msubplots(\u001b[38;5;241m5\u001b[39m, \u001b[38;5;241m4\u001b[39m, figsize\u001b[38;5;241m=\u001b[39m(\u001b[38;5;241m15\u001b[39m, \u001b[38;5;241m20\u001b[39m))\n\u001b[1;32m----> 4\u001b[0m years \u001b[38;5;241m=\u001b[39m \u001b[43mdf_03_22\u001b[49m[\u001b[38;5;124m'\u001b[39m\u001b[38;5;124mYear\u001b[39m\u001b[38;5;124m'\u001b[39m]\u001b[38;5;241m.\u001b[39munique()\n\u001b[0;32m      6\u001b[0m \u001b[38;5;28;01mfor\u001b[39;00m i, year \u001b[38;5;129;01min\u001b[39;00m \u001b[38;5;28menumerate\u001b[39m(years):\n\u001b[0;32m      7\u001b[0m     ax \u001b[38;5;241m=\u001b[39m axes[i\u001b[38;5;241m/\u001b[39m\u001b[38;5;241m/\u001b[39m\u001b[38;5;241m4\u001b[39m, i\u001b[38;5;241m%\u001b[39m\u001b[38;5;241m4\u001b[39m]\n",
      "\u001b[1;31mNameError\u001b[0m: name 'df_03_22' is not defined"
     ]
    },
    {
     "data": {
      "image/png": "[encoded data removed]",
      "text/plain": [
       "<Figure size 1500x2000 with 20 Axes>"
      ]
     },
     "metadata": {},
     "output_type": "display_data"
    }
   ],
   "source": [
    "import matplotlib.pyplot as plt\n",
    "\n",
    "fig, axes = plt.subplots(5, 4, figsize=(15, 20))\n",
    "years = df_03_22['Year'].unique()\n",
    "\n",
    "for i, year in enumerate(years):\n",
    "    ax = axes[i//4, i%4]\n",
    "    merged_df = pd.merge(gdf, df_03_22.loc[df_03_22['Year'] == year], on='RM')\n",
    "    merged_df.plot(column='Canola', cmap='RdYlGn', legend=True, ax=ax)\n",
    "    ax.set_title(f'Canola Yield in {year}', color='Blue', size=12)\n",
    "\n",
    "plt.tight_layout()\n",
    "plt.show()"
   ]
  },
  {
   "cell_type": "code",
   "execution_count": 53,
   "metadata": {},
   "outputs": [],
   "source": [
    "agg_funcs = {\n",
    "    column: ['mean', 'std', 'median'] for column in crop_columns\n",
    "}\n",
    "\n",
    "df_agg = df_03_22.set_index('RM')[crop_columns].groupby('RM').agg(agg_funcs)\n",
    "\n",
    "# Optionally, to flatten the multi-level columns:\n",
    "df_agg.columns = ['_'.join(col).strip() for col in df_agg.columns.values]\n",
    "\n",
    "# Dropping missing values for Canola mean.\n",
    "df_agg=df_agg.dropna(subset='Canola_mean')"
   ]
  },
  {
   "cell_type": "code",
   "execution_count": 54,
   "metadata": {},
   "outputs": [
    {
     "data": {
      "text/plain": [
       "(392, 24)"
      ]
     },
     "execution_count": 54,
     "metadata": {},
     "output_type": "execute_result"
    }
   ],
   "source": [
    "df_agg.shape"
   ]
  },
  {
   "cell_type": "markdown",
   "metadata": {},
   "source": [
    "# Feature Selection"
   ]
  },
  {
   "cell_type": "markdown",
   "metadata": {},
   "source": [
    "## Filtered Methods"
   ]
  },
  {
   "cell_type": "code",
   "execution_count": 55,
   "metadata": {},
   "outputs": [],
   "source": [
    "# ANOVA\n",
    "# Pearson Correlation"
   ]
  },
  {
   "cell_type": "markdown",
   "metadata": {},
   "source": [
    "## Wrapper"
   ]
  },
  {
   "cell_type": "code",
   "execution_count": 56,
   "metadata": {},
   "outputs": [],
   "source": [
    "## Recurisive Feature Elimnation\n",
    "## Backward feature elimination"
   ]
  },
  {
   "cell_type": "markdown",
   "metadata": {},
   "source": [
    "## Emedded "
   ]
  },
  {
   "cell_type": "code",
   "execution_count": 57,
   "metadata": {},
   "outputs": [],
   "source": [
    "# Decision Tree\n",
    "# Lasso Reg"
   ]
  },
  {
   "cell_type": "markdown",
   "metadata": {},
   "source": [
    "# Standardizing/Split"
   ]
  },
  {
   "cell_type": "code",
   "execution_count": 58,
   "metadata": {},
   "outputs": [],
   "source": [
    "# Only for Supervised ML, not unsupervised"
   ]
  },
  {
   "cell_type": "markdown",
   "metadata": {},
   "source": [
    "# Training Models"
   ]
  },
  {
   "cell_type": "code",
   "execution_count": 59,
   "metadata": {},
   "outputs": [],
   "source": [
    "# Use default parameters - not advised\n",
    "\n",
    "# Parameter tuning\n",
    "# Use always grid search"
   ]
  },
  {
   "cell_type": "markdown",
   "metadata": {},
   "source": [
    "## K-Means Clustering"
   ]
  },
  {
   "cell_type": "code",
   "execution_count": 60,
   "metadata": {},
   "outputs": [
    {
     "name": "stderr",
     "output_type": "stream",
     "text": [
      "C:\\ProgramData\\anaconda3\\lib\\site-packages\\sklearn\\cluster\\_kmeans.py:1382: UserWarning: KMeans is known to have a memory leak on Windows with MKL, when there are less chunks than available threads. You can avoid it by setting the environment variable OMP_NUM_THREADS=2.\n",
      "  warnings.warn(\n",
      "C:\\ProgramData\\anaconda3\\lib\\site-packages\\sklearn\\cluster\\_kmeans.py:1382: UserWarning: KMeans is known to have a memory leak on Windows with MKL, when there are less chunks than available threads. You can avoid it by setting the environment variable OMP_NUM_THREADS=2.\n",
      "  warnings.warn(\n",
      "C:\\ProgramData\\anaconda3\\lib\\site-packages\\sklearn\\cluster\\_kmeans.py:1382: UserWarning: KMeans is known to have a memory leak on Windows with MKL, when there are less chunks than available threads. You can avoid it by setting the environment variable OMP_NUM_THREADS=2.\n",
      "  warnings.warn(\n",
      "C:\\ProgramData\\anaconda3\\lib\\site-packages\\sklearn\\cluster\\_kmeans.py:1382: UserWarning: KMeans is known to have a memory leak on Windows with MKL, when there are less chunks than available threads. You can avoid it by setting the environment variable OMP_NUM_THREADS=2.\n",
      "  warnings.warn(\n",
      "C:\\ProgramData\\anaconda3\\lib\\site-packages\\sklearn\\cluster\\_kmeans.py:1382: UserWarning: KMeans is known to have a memory leak on Windows with MKL, when there are less chunks than available threads. You can avoid it by setting the environment variable OMP_NUM_THREADS=2.\n",
      "  warnings.warn(\n",
      "C:\\ProgramData\\anaconda3\\lib\\site-packages\\sklearn\\cluster\\_kmeans.py:1382: UserWarning: KMeans is known to have a memory leak on Windows with MKL, when there are less chunks than available threads. You can avoid it by setting the environment variable OMP_NUM_THREADS=2.\n",
      "  warnings.warn(\n",
      "C:\\ProgramData\\anaconda3\\lib\\site-packages\\sklearn\\cluster\\_kmeans.py:1382: UserWarning: KMeans is known to have a memory leak on Windows with MKL, when there are less chunks than available threads. You can avoid it by setting the environment variable OMP_NUM_THREADS=2.\n",
      "  warnings.warn(\n",
      "C:\\ProgramData\\anaconda3\\lib\\site-packages\\sklearn\\cluster\\_kmeans.py:1382: UserWarning: KMeans is known to have a memory leak on Windows with MKL, when there are less chunks than available threads. You can avoid it by setting the environment variable OMP_NUM_THREADS=2.\n",
      "  warnings.warn(\n",
      "C:\\ProgramData\\anaconda3\\lib\\site-packages\\sklearn\\cluster\\_kmeans.py:1382: UserWarning: KMeans is known to have a memory leak on Windows with MKL, when there are less chunks than available threads. You can avoid it by setting the environment variable OMP_NUM_THREADS=2.\n",
      "  warnings.warn(\n",
      "C:\\ProgramData\\anaconda3\\lib\\site-packages\\sklearn\\cluster\\_kmeans.py:1382: UserWarning: KMeans is known to have a memory leak on Windows with MKL, when there are less chunks than available threads. You can avoid it by setting the environment variable OMP_NUM_THREADS=2.\n",
      "  warnings.warn(\n",
      "C:\\ProgramData\\anaconda3\\lib\\site-packages\\sklearn\\cluster\\_kmeans.py:1382: UserWarning: KMeans is known to have a memory leak on Windows with MKL, when there are less chunks than available threads. You can avoid it by setting the environment variable OMP_NUM_THREADS=2.\n",
      "  warnings.warn(\n",
      "C:\\ProgramData\\anaconda3\\lib\\site-packages\\sklearn\\cluster\\_kmeans.py:1382: UserWarning: KMeans is known to have a memory leak on Windows with MKL, when there are less chunks than available threads. You can avoid it by setting the environment variable OMP_NUM_THREADS=2.\n",
      "  warnings.warn(\n",
      "C:\\ProgramData\\anaconda3\\lib\\site-packages\\sklearn\\cluster\\_kmeans.py:1382: UserWarning: KMeans is known to have a memory leak on Windows with MKL, when there are less chunks than available threads. You can avoid it by setting the environment variable OMP_NUM_THREADS=2.\n",
      "  warnings.warn(\n",
      "C:\\ProgramData\\anaconda3\\lib\\site-packages\\sklearn\\cluster\\_kmeans.py:1382: UserWarning: KMeans is known to have a memory leak on Windows with MKL, when there are less chunks than available threads. You can avoid it by setting the environment variable OMP_NUM_THREADS=2.\n",
      "  warnings.warn(\n"
     ]
    }
   ],
   "source": [
    "# Importing library\n",
    "from sklearn.cluster import KMeans \n",
    "\n",
    "df_agg_can= df_agg[['Canola_mean', 'Canola_std']]\n",
    "\n",
    "# Let's define our features\n",
    "X = df_agg_can.copy()\n",
    "\n",
    "from sklearn.metrics import silhouette_score\n",
    "n_clusters = [2,3,4,5,6,7,8,9,10,11,12,13,14,15] # number of clusters\n",
    "clusters_inertia = [] # inertia of clusters\n",
    "s_scores = [] # silhouette scores\n",
    "\n",
    "for n in n_clusters:\n",
    "    KM = KMeans(n_clusters=n, init='k-means++', n_init=10).fit(X)\n",
    "    clusters_inertia.append(KM.inertia_)    # data for the elbow method\n",
    "    silhouette_avg = silhouette_score(X, KM.labels_)\n",
    "    s_scores.append(silhouette_avg) # data for the silhouette score method"
   ]
  },
  {
   "cell_type": "code",
   "execution_count": 61,
   "metadata": {},
   "outputs": [
    {
     "data": {
      "text/plain": [
       "(392, 2)"
      ]
     },
     "execution_count": 61,
     "metadata": {},
     "output_type": "execute_result"
    }
   ],
   "source": [
    "X.shape"
   ]
  },
  {
   "cell_type": "markdown",
   "metadata": {},
   "source": [
    "## Elbow Metod"
   ]
  },
  {
   "cell_type": "code",
   "execution_count": 62,
   "metadata": {},
   "outputs": [
    {
     "data": {
      "image/png": "[encoded data removed]",
      "text/plain": [
       "<Figure size 1200x500 with 1 Axes>"
      ]
     },
     "metadata": {},
     "output_type": "display_data"
    }
   ],
   "source": [
    "fig, ax = plt.subplots(figsize=(12,5))\n",
    "ax.plot(n_clusters, clusters_inertia, 'o-', color='blue', label='Elbow Method')\n",
    "ax.set_title(\"Elbow Method\")\n",
    "ax.set_xlabel(\"Number of Clusters\")\n",
    "ax.set_ylabel(\"Clusters Inertia\")\n",
    "ax.axvline(4, ls=\"--\", c=\"red\")\n",
    "ax.axvline(5, ls=\"--\", c=\"red\")\n",
    "ax.axvline(6, ls=\"--\", c=\"red\")\n",
    "plt.grid()\n",
    "plt.legend()\n",
    "plt.show()"
   ]
  },
  {
   "cell_type": "markdown",
   "metadata": {},
   "source": [
    "## Silhouette Score"
   ]
  },
  {
   "cell_type": "code",
   "execution_count": 63,
   "metadata": {},
   "outputs": [
    {
     "data": {
      "image/png": "[encoded data removed]",
      "text/plain": [
       "<Figure size 1200x500 with 1 Axes>"
      ]
     },
     "metadata": {},
     "output_type": "display_data"
    }
   ],
   "source": [
    "fig, ax = plt.subplots(figsize=(12,5))\n",
    "ax.plot(n_clusters, s_scores, 's-', color='green', label='Silhouette Score Method')\n",
    "ax.set_title(\"Silhouette Score Method\")\n",
    "ax.set_xlabel(\"Number of Clusters\")\n",
    "ax.set_ylabel(\"Silhouette Score\")\n",
    "ax.axvline(6, ls=\"--\", c=\"red\")\n",
    "plt.grid()\n",
    "plt.legend()\n",
    "plt.show()\n"
   ]
  },
  {
   "cell_type": "code",
   "execution_count": 64,
   "metadata": {},
   "outputs": [
    {
     "name": "stderr",
     "output_type": "stream",
     "text": [
      "C:\\ProgramData\\anaconda3\\lib\\site-packages\\sklearn\\cluster\\_kmeans.py:1382: UserWarning: KMeans is known to have a memory leak on Windows with MKL, when there are less chunks than available threads. You can avoid it by setting the environment variable OMP_NUM_THREADS=2.\n",
      "  warnings.warn(\n",
      "C:\\Users\\adith\\AppData\\Local\\Temp\\ipykernel_33664\\972049213.py:4: SettingWithCopyWarning: \n",
      "A value is trying to be set on a copy of a slice from a DataFrame.\n",
      "Try using .loc[row_indexer,col_indexer] = value instead\n",
      "\n",
      "See the caveats in the documentation: https://pandas.pydata.org/pandas-docs/stable/user_guide/indexing.html#returning-a-view-versus-a-copy\n",
      "  df_agg_can['Clusters_5']=kmeans.fit_predict(df_agg_can)\n"
     ]
    }
   ],
   "source": [
    "from sklearn.cluster import KMeans\n",
    "\n",
    "kmeans = KMeans(n_clusters=5, init='k-means++', random_state=42, n_init=10)\n",
    "df_agg_can['Clusters_5']=kmeans.fit_predict(df_agg_can)"
   ]
  },
  {
   "cell_type": "code",
   "execution_count": 65,
   "metadata": {},
   "outputs": [
    {
     "name": "stderr",
     "output_type": "stream",
     "text": [
      "C:\\ProgramData\\anaconda3\\lib\\site-packages\\sklearn\\cluster\\_kmeans.py:870: FutureWarning: The default value of `n_init` will change from 10 to 'auto' in 1.4. Set the value of `n_init` explicitly to suppress the warning\n",
      "  warnings.warn(\n",
      "C:\\ProgramData\\anaconda3\\lib\\site-packages\\sklearn\\cluster\\_kmeans.py:1382: UserWarning: KMeans is known to have a memory leak on Windows with MKL, when there are less chunks than available threads. You can avoid it by setting the environment variable OMP_NUM_THREADS=2.\n",
      "  warnings.warn(\n",
      "C:\\Users\\adith\\AppData\\Local\\Temp\\ipykernel_33664\\4281662911.py:2: SettingWithCopyWarning: \n",
      "A value is trying to be set on a copy of a slice from a DataFrame.\n",
      "Try using .loc[row_indexer,col_indexer] = value instead\n",
      "\n",
      "See the caveats in the documentation: https://pandas.pydata.org/pandas-docs/stable/user_guide/indexing.html#returning-a-view-versus-a-copy\n",
      "  df_agg_can['Clusters_7']=kmeans.fit_predict(df_agg_can)\n"
     ]
    }
   ],
   "source": [
    "kmeans = KMeans(n_clusters=7, init='k-means++', random_state=42)\n",
    "df_agg_can['Clusters_7']=kmeans.fit_predict(df_agg_can)"
   ]
  },
  {
   "cell_type": "code",
   "execution_count": 66,
   "metadata": {},
   "outputs": [
    {
     "data": {
      "text/plain": [
       "(392, 4)"
      ]
     },
     "execution_count": 66,
     "metadata": {},
     "output_type": "execute_result"
    }
   ],
   "source": [
    "df_agg_can.shape"
   ]
  },
  {
   "cell_type": "code",
   "execution_count": 19,
   "metadata": {},
   "outputs": [
    {
     "ename": "NameError",
     "evalue": "name 'sb' is not defined",
     "output_type": "error",
     "traceback": [
      "\u001b[1;31m---------------------------------------------------------------------------\u001b[0m",
      "\u001b[1;31mNameError\u001b[0m                                 Traceback (most recent call last)",
      "Cell \u001b[1;32mIn[19], line 1\u001b[0m\n\u001b[1;32m----> 1\u001b[0m \u001b[43msb\u001b[49m\u001b[38;5;241m.\u001b[39mscatterplot(data\u001b[38;5;241m=\u001b[39mdf_agg_can, x\u001b[38;5;241m=\u001b[39m\u001b[38;5;124m'\u001b[39m\u001b[38;5;124mCanola_mean\u001b[39m\u001b[38;5;124m'\u001b[39m, y\u001b[38;5;241m=\u001b[39m\u001b[38;5;124m'\u001b[39m\u001b[38;5;124mCanola_std\u001b[39m\u001b[38;5;124m'\u001b[39m, hue\u001b[38;5;241m=\u001b[39m\u001b[38;5;124m'\u001b[39m\u001b[38;5;124mClusters_5\u001b[39m\u001b[38;5;124m'\u001b[39m)\n\u001b[0;32m      2\u001b[0m plt\u001b[38;5;241m.\u001b[39mtitle(\u001b[38;5;124m'\u001b[39m\u001b[38;5;124mCanola Clustering Mean and Std | 2003-2022 | K-Means \u001b[39m\u001b[38;5;124m'\u001b[39m, color\u001b[38;5;241m=\u001b[39m\u001b[38;5;124m'\u001b[39m\u001b[38;5;124mblue\u001b[39m\u001b[38;5;124m'\u001b[39m, size \u001b[38;5;241m=\u001b[39m\u001b[38;5;241m14\u001b[39m)\n",
      "\u001b[1;31mNameError\u001b[0m: name 'sb' is not defined"
     ]
    }
   ],
   "source": [
    "sb.scatterplot(data=df_agg_can, x='Canola_mean', y='Canola_std', hue='Clusters_5')\n",
    "plt.title('Canola Clustering Mean and Std | 2003-2022 | K-Means ', color='blue', size =14)\n",
    "plt.show()"
   ]
  },
  {
   "cell_type": "code",
   "execution_count": null,
   "metadata": {},
   "outputs": [],
   "source": []
  },
  {
   "cell_type": "code",
   "execution_count": 18,
   "metadata": {},
   "outputs": [
    {
     "ename": "NameError",
     "evalue": "name 'sb' is not defined",
     "output_type": "error",
     "traceback": [
      "\u001b[1;31m---------------------------------------------------------------------------\u001b[0m",
      "\u001b[1;31mNameError\u001b[0m                                 Traceback (most recent call last)",
      "Cell \u001b[1;32mIn[18], line 1\u001b[0m\n\u001b[1;32m----> 1\u001b[0m \u001b[43msb\u001b[49m\u001b[38;5;241m.\u001b[39mscatterplot(data\u001b[38;5;241m=\u001b[39mdf_agg_can, x\u001b[38;5;241m=\u001b[39m\u001b[38;5;124m'\u001b[39m\u001b[38;5;124mCanola_mean\u001b[39m\u001b[38;5;124m'\u001b[39m, y\u001b[38;5;241m=\u001b[39m\u001b[38;5;124m'\u001b[39m\u001b[38;5;124mCanola_std\u001b[39m\u001b[38;5;124m'\u001b[39m, hue\u001b[38;5;241m=\u001b[39m\u001b[38;5;124m'\u001b[39m\u001b[38;5;124mClusters_7\u001b[39m\u001b[38;5;124m'\u001b[39m)\n\u001b[0;32m      2\u001b[0m plt\u001b[38;5;241m.\u001b[39mtitle(\u001b[38;5;124m'\u001b[39m\u001b[38;5;124mCanola Clustering Mean and Std | 2003-2022 | K-Means \u001b[39m\u001b[38;5;124m'\u001b[39m, color\u001b[38;5;241m=\u001b[39m\u001b[38;5;124m'\u001b[39m\u001b[38;5;124mblue\u001b[39m\u001b[38;5;124m'\u001b[39m, size \u001b[38;5;241m=\u001b[39m\u001b[38;5;241m14\u001b[39m)\n",
      "\u001b[1;31mNameError\u001b[0m: name 'sb' is not defined"
     ]
    }
   ],
   "source": [
    "sb.scatterplot(data=df_agg_can, x='Canola_mean', y='Canola_std', hue='Clusters_7')\n",
    "plt.title('Canola Clustering Mean and Std | 2003-2022 | K-Means ', color='blue', size =14)\n",
    "plt.show()"
   ]
  },
  {
   "cell_type": "code",
   "execution_count": 69,
   "metadata": {},
   "outputs": [
    {
     "data": {
      "text/html": [
       "<div>\n",
       "<style scoped>\n",
       "    .dataframe tbody tr th:only-of-type {\n",
       "        vertical-align: middle;\n",
       "    }\n",
       "\n",
       "    .dataframe tbody tr th {\n",
       "        vertical-align: top;\n",
       "    }\n",
       "\n",
       "    .dataframe thead th {\n",
       "        text-align: right;\n",
       "    }\n",
       "</style>\n",
       "<table border=\"1\" class=\"dataframe\">\n",
       "  <thead>\n",
       "    <tr style=\"text-align: right;\">\n",
       "      <th></th>\n",
       "      <th>Canola_mean</th>\n",
       "      <th>Canola_std</th>\n",
       "      <th>Clusters_5</th>\n",
       "      <th>Clusters_7</th>\n",
       "    </tr>\n",
       "    <tr>\n",
       "      <th>RM</th>\n",
       "      <th></th>\n",
       "      <th></th>\n",
       "      <th></th>\n",
       "      <th></th>\n",
       "    </tr>\n",
       "  </thead>\n",
       "  <tbody>\n",
       "    <tr>\n",
       "      <th>1</th>\n",
       "      <td>28.857500</td>\n",
       "      <td>7.187953</td>\n",
       "      <td>0</td>\n",
       "      <td>0</td>\n",
       "    </tr>\n",
       "    <tr>\n",
       "      <th>10</th>\n",
       "      <td>21.931500</td>\n",
       "      <td>8.712910</td>\n",
       "      <td>4</td>\n",
       "      <td>4</td>\n",
       "    </tr>\n",
       "    <tr>\n",
       "      <th>100</th>\n",
       "      <td>30.436842</td>\n",
       "      <td>9.926922</td>\n",
       "      <td>2</td>\n",
       "      <td>5</td>\n",
       "    </tr>\n",
       "    <tr>\n",
       "      <th>101</th>\n",
       "      <td>26.350526</td>\n",
       "      <td>8.024266</td>\n",
       "      <td>0</td>\n",
       "      <td>0</td>\n",
       "    </tr>\n",
       "    <tr>\n",
       "      <th>102</th>\n",
       "      <td>31.061500</td>\n",
       "      <td>10.232925</td>\n",
       "      <td>2</td>\n",
       "      <td>5</td>\n",
       "    </tr>\n",
       "    <tr>\n",
       "      <th>...</th>\n",
       "      <td>...</td>\n",
       "      <td>...</td>\n",
       "      <td>...</td>\n",
       "      <td>...</td>\n",
       "    </tr>\n",
       "    <tr>\n",
       "      <th>WHITEHEAD</th>\n",
       "      <td>33.041511</td>\n",
       "      <td>7.477371</td>\n",
       "      <td>2</td>\n",
       "      <td>1</td>\n",
       "    </tr>\n",
       "    <tr>\n",
       "      <th>WHITEMOUTH</th>\n",
       "      <td>32.618159</td>\n",
       "      <td>13.972093</td>\n",
       "      <td>1</td>\n",
       "      <td>6</td>\n",
       "    </tr>\n",
       "    <tr>\n",
       "      <th>WINNIPEG</th>\n",
       "      <td>31.971341</td>\n",
       "      <td>10.378711</td>\n",
       "      <td>2</td>\n",
       "      <td>5</td>\n",
       "    </tr>\n",
       "    <tr>\n",
       "      <th>WOODLANDS</th>\n",
       "      <td>32.875363</td>\n",
       "      <td>11.105178</td>\n",
       "      <td>1</td>\n",
       "      <td>5</td>\n",
       "    </tr>\n",
       "    <tr>\n",
       "      <th>YELLOWHEAD</th>\n",
       "      <td>38.497644</td>\n",
       "      <td>7.268739</td>\n",
       "      <td>3</td>\n",
       "      <td>3</td>\n",
       "    </tr>\n",
       "  </tbody>\n",
       "</table>\n",
       "<p>392 rows × 4 columns</p>\n",
       "</div>"
      ],
      "text/plain": [
       "            Canola_mean  Canola_std  Clusters_5  Clusters_7\n",
       "RM                                                         \n",
       "1             28.857500    7.187953           0           0\n",
       "10            21.931500    8.712910           4           4\n",
       "100           30.436842    9.926922           2           5\n",
       "101           26.350526    8.024266           0           0\n",
       "102           31.061500   10.232925           2           5\n",
       "...                 ...         ...         ...         ...\n",
       "WHITEHEAD     33.041511    7.477371           2           1\n",
       "WHITEMOUTH    32.618159   13.972093           1           6\n",
       "WINNIPEG      31.971341   10.378711           2           5\n",
       "WOODLANDS     32.875363   11.105178           1           5\n",
       "YELLOWHEAD    38.497644    7.268739           3           3\n",
       "\n",
       "[392 rows x 4 columns]"
      ]
     },
     "execution_count": 69,
     "metadata": {},
     "output_type": "execute_result"
    }
   ],
   "source": [
    "df_agg_can"
   ]
  },
  {
   "cell_type": "code",
   "execution_count": 11,
   "metadata": {},
   "outputs": [
    {
     "ename": "IndentationError",
     "evalue": "unexpected indent (578278327.py, line 2)",
     "output_type": "error",
     "traceback": [
      "\u001b[1;36m  Cell \u001b[1;32mIn[11], line 2\u001b[1;36m\u001b[0m\n\u001b[1;33m    gdf,\u001b[0m\n\u001b[1;37m    ^\u001b[0m\n\u001b[1;31mIndentationError\u001b[0m\u001b[1;31m:\u001b[0m unexpected indent\n"
     ]
    }
   ],
   "source": [
    "pd.merge(\n",
    "    gdf,\n",
    "    df_agg_can,\n",
    "    on='RM'\n",
    ").explore(column='Clusters_7', legend='True', k=7, scheme='naturalbreaks', cmap='Oranges')"
   ]
  },
  {
   "cell_type": "markdown",
   "metadata": {},
   "source": [
    "## Ranking clusters based on Mean"
   ]
  },
  {
   "cell_type": "code",
   "execution_count": 71,
   "metadata": {},
   "outputs": [
    {
     "data": {
      "text/html": [
       "<div>\n",
       "<style scoped>\n",
       "    .dataframe tbody tr th:only-of-type {\n",
       "        vertical-align: middle;\n",
       "    }\n",
       "\n",
       "    .dataframe tbody tr th {\n",
       "        vertical-align: top;\n",
       "    }\n",
       "\n",
       "    .dataframe thead th {\n",
       "        text-align: right;\n",
       "    }\n",
       "</style>\n",
       "<table border=\"1\" class=\"dataframe\">\n",
       "  <thead>\n",
       "    <tr style=\"text-align: right;\">\n",
       "      <th></th>\n",
       "      <th>Canola_mean</th>\n",
       "      <th>Canola_std</th>\n",
       "    </tr>\n",
       "    <tr>\n",
       "      <th>Clusters_7</th>\n",
       "      <th></th>\n",
       "      <th></th>\n",
       "    </tr>\n",
       "  </thead>\n",
       "  <tbody>\n",
       "    <tr>\n",
       "      <th>4</th>\n",
       "      <td>21.998592</td>\n",
       "      <td>9.687682</td>\n",
       "    </tr>\n",
       "    <tr>\n",
       "      <th>0</th>\n",
       "      <td>27.774155</td>\n",
       "      <td>8.825255</td>\n",
       "    </tr>\n",
       "    <tr>\n",
       "      <th>2</th>\n",
       "      <td>31.199358</td>\n",
       "      <td>7.830780</td>\n",
       "    </tr>\n",
       "    <tr>\n",
       "      <th>5</th>\n",
       "      <td>31.665669</td>\n",
       "      <td>10.441043</td>\n",
       "    </tr>\n",
       "    <tr>\n",
       "      <th>1</th>\n",
       "      <td>34.203754</td>\n",
       "      <td>8.520216</td>\n",
       "    </tr>\n",
       "    <tr>\n",
       "      <th>6</th>\n",
       "      <td>35.058167</td>\n",
       "      <td>11.717432</td>\n",
       "    </tr>\n",
       "    <tr>\n",
       "      <th>3</th>\n",
       "      <td>38.111870</td>\n",
       "      <td>8.746017</td>\n",
       "    </tr>\n",
       "  </tbody>\n",
       "</table>\n",
       "</div>"
      ],
      "text/plain": [
       "            Canola_mean  Canola_std\n",
       "Clusters_7                         \n",
       "4             21.998592    9.687682\n",
       "0             27.774155    8.825255\n",
       "2             31.199358    7.830780\n",
       "5             31.665669   10.441043\n",
       "1             34.203754    8.520216\n",
       "6             35.058167   11.717432\n",
       "3             38.111870    8.746017"
      ]
     },
     "execution_count": 71,
     "metadata": {},
     "output_type": "execute_result"
    }
   ],
   "source": [
    "df_agg_can.groupby('Clusters_7').mean()\\\n",
    "    .sort_values('Canola_mean')[['Canola_mean',\t'Canola_std']]"
   ]
  },
  {
   "cell_type": "code",
   "execution_count": 72,
   "metadata": {},
   "outputs": [
    {
     "name": "stderr",
     "output_type": "stream",
     "text": [
      "C:\\Users\\adith\\AppData\\Local\\Temp\\ipykernel_33664\\1813665222.py:2: SettingWithCopyWarning: \n",
      "A value is trying to be set on a copy of a slice from a DataFrame.\n",
      "Try using .loc[row_indexer,col_indexer] = value instead\n",
      "\n",
      "See the caveats in the documentation: https://pandas.pydata.org/pandas-docs/stable/user_guide/indexing.html#returning-a-view-versus-a-copy\n",
      "  df_agg_can['Clusters_7_ranked']=df_agg_can['Clusters_7'].replace(to_replace={\n"
     ]
    }
   ],
   "source": [
    "# Ranking based on the mean\n",
    "df_agg_can['Clusters_7_ranked']=df_agg_can['Clusters_7'].replace(to_replace={\n",
    "    3:0,\n",
    "    6:1,\n",
    "    0:5,\n",
    "    5:3,\n",
    "    2:4,\n",
    "    4:6,\n",
    "    1:2\n",
    "})"
   ]
  },
  {
   "cell_type": "code",
   "execution_count": 73,
   "metadata": {},
   "outputs": [
    {
     "data": {
      "text/html": [
       "<div>\n",
       "<style scoped>\n",
       "    .dataframe tbody tr th:only-of-type {\n",
       "        vertical-align: middle;\n",
       "    }\n",
       "\n",
       "    .dataframe tbody tr th {\n",
       "        vertical-align: top;\n",
       "    }\n",
       "\n",
       "    .dataframe thead th {\n",
       "        text-align: right;\n",
       "    }\n",
       "</style>\n",
       "<table border=\"1\" class=\"dataframe\">\n",
       "  <thead>\n",
       "    <tr style=\"text-align: right;\">\n",
       "      <th></th>\n",
       "      <th>Canola_mean</th>\n",
       "      <th>Canola_std</th>\n",
       "    </tr>\n",
       "    <tr>\n",
       "      <th>Clusters_7</th>\n",
       "      <th></th>\n",
       "      <th></th>\n",
       "    </tr>\n",
       "  </thead>\n",
       "  <tbody>\n",
       "    <tr>\n",
       "      <th>2</th>\n",
       "      <td>31.199358</td>\n",
       "      <td>7.830780</td>\n",
       "    </tr>\n",
       "    <tr>\n",
       "      <th>1</th>\n",
       "      <td>34.203754</td>\n",
       "      <td>8.520216</td>\n",
       "    </tr>\n",
       "    <tr>\n",
       "      <th>3</th>\n",
       "      <td>38.111870</td>\n",
       "      <td>8.746017</td>\n",
       "    </tr>\n",
       "    <tr>\n",
       "      <th>0</th>\n",
       "      <td>27.774155</td>\n",
       "      <td>8.825255</td>\n",
       "    </tr>\n",
       "    <tr>\n",
       "      <th>4</th>\n",
       "      <td>21.998592</td>\n",
       "      <td>9.687682</td>\n",
       "    </tr>\n",
       "    <tr>\n",
       "      <th>5</th>\n",
       "      <td>31.665669</td>\n",
       "      <td>10.441043</td>\n",
       "    </tr>\n",
       "    <tr>\n",
       "      <th>6</th>\n",
       "      <td>35.058167</td>\n",
       "      <td>11.717432</td>\n",
       "    </tr>\n",
       "  </tbody>\n",
       "</table>\n",
       "</div>"
      ],
      "text/plain": [
       "            Canola_mean  Canola_std\n",
       "Clusters_7                         \n",
       "2             31.199358    7.830780\n",
       "1             34.203754    8.520216\n",
       "3             38.111870    8.746017\n",
       "0             27.774155    8.825255\n",
       "4             21.998592    9.687682\n",
       "5             31.665669   10.441043\n",
       "6             35.058167   11.717432"
      ]
     },
     "execution_count": 73,
     "metadata": {},
     "output_type": "execute_result"
    }
   ],
   "source": [
    "df_agg_can.groupby('Clusters_7').mean()\\\n",
    "    .sort_values('Canola_std')[['Canola_mean',\t'Canola_std']]"
   ]
  },
  {
   "cell_type": "code",
   "execution_count": 74,
   "metadata": {},
   "outputs": [
    {
     "name": "stderr",
     "output_type": "stream",
     "text": [
      "C:\\Users\\adith\\AppData\\Local\\Temp\\ipykernel_33664\\3306807341.py:2: SettingWithCopyWarning: \n",
      "A value is trying to be set on a copy of a slice from a DataFrame.\n",
      "Try using .loc[row_indexer,col_indexer] = value instead\n",
      "\n",
      "See the caveats in the documentation: https://pandas.pydata.org/pandas-docs/stable/user_guide/indexing.html#returning-a-view-versus-a-copy\n",
      "  df_agg_can['Clusters_7_ranked_std']=df_agg_can['Clusters_7'].replace(to_replace={\n"
     ]
    }
   ],
   "source": [
    "# Ranking based on the STD or volatility\n",
    "df_agg_can['Clusters_7_ranked_std']=df_agg_can['Clusters_7'].replace(to_replace={\n",
    "    2:0,\n",
    "    5:1,\n",
    "    6:2,\n",
    "    1:3,\n",
    "    3:4,\n",
    "    4:5,\n",
    "    0:6\n",
    "})"
   ]
  },
  {
   "cell_type": "code",
   "execution_count": 12,
   "metadata": {},
   "outputs": [
    {
     "ename": "IndentationError",
     "evalue": "unexpected indent (2263268415.py, line 2)",
     "output_type": "error",
     "traceback": [
      "\u001b[1;36m  Cell \u001b[1;32mIn[12], line 2\u001b[1;36m\u001b[0m\n\u001b[1;33m    gdf,\u001b[0m\n\u001b[1;37m    ^\u001b[0m\n\u001b[1;31mIndentationError\u001b[0m\u001b[1;31m:\u001b[0m unexpected indent\n"
     ]
    }
   ],
   "source": [
    "pd.merge(\n",
    "    gdf,\n",
    "    df_agg_can,\n",
    "    on='RM'\n",
    ").explore(column='Clusters_7_ranked', legend='True', k=7, scheme='naturalbreaks', cmap='Oranges')"
   ]
  },
  {
   "cell_type": "code",
   "execution_count": 13,
   "metadata": {},
   "outputs": [
    {
     "ename": "IndentationError",
     "evalue": "unexpected indent (1622073479.py, line 2)",
     "output_type": "error",
     "traceback": [
      "\u001b[1;36m  Cell \u001b[1;32mIn[13], line 2\u001b[1;36m\u001b[0m\n\u001b[1;33m    gdf,\u001b[0m\n\u001b[1;37m    ^\u001b[0m\n\u001b[1;31mIndentationError\u001b[0m\u001b[1;31m:\u001b[0m unexpected indent\n"
     ]
    }
   ],
   "source": [
    "pd.merge(\n",
    "    gdf,\n",
    "    df_agg_can,\n",
    "    on='RM'\n",
    ").explore(column='Clusters_7_ranked_std', legend='True', k=7, scheme='naturalbreaks', cmap='Oranges')"
   ]
  },
  {
   "cell_type": "markdown",
   "metadata": {},
   "source": [
    "# Error  (Supervised ML)"
   ]
  },
  {
   "cell_type": "code",
   "execution_count": 77,
   "metadata": {},
   "outputs": [],
   "source": [
    "# MAE (Mean Absolute Error)\n",
    "# RMSE(Mean Squared Error)\n",
    "\n",
    "# Based on above errors, find the min error model.\n",
    "# Check error distribution\n",
    "# Look at the difference\n",
    "# Make a scatterplot"
   ]
  },
  {
   "cell_type": "markdown",
   "metadata": {},
   "source": [
    "# Deployment"
   ]
  },
  {
   "cell_type": "code",
   "execution_count": 78,
   "metadata": {},
   "outputs": [],
   "source": [
    "# ML engineers deploys models with SD\n",
    "\n",
    "# AWS Sagemaker"
   ]
  },
  {
   "cell_type": "markdown",
   "metadata": {},
   "source": [
    "# Monitoring"
   ]
  },
  {
   "cell_type": "code",
   "execution_count": 79,
   "metadata": {},
   "outputs": [],
   "source": [
    "# Look at error\n",
    "\n",
    "# If something wrong go back to step 1"
   ]
  },
  {
   "cell_type": "markdown",
   "metadata": {},
   "source": [
    "# Joining Tables based on  location in Geopandas"
   ]
  },
  {
   "cell_type": "code",
   "execution_count": 80,
   "metadata": {},
   "outputs": [
    {
     "name": "stderr",
     "output_type": "stream",
     "text": [
      "C:\\ProgramData\\anaconda3\\lib\\site-packages\\paramiko\\transport.py:219: CryptographyDeprecationWarning: Blowfish has been deprecated\n",
      "  \"class\": algorithms.Blowfish,\n"
     ]
    }
   ],
   "source": [
    "import geodatasets\n",
    "chicago = gpd.read_file(\n",
    "    geodatasets.get_path(\"geoda.chicago_health\")\n",
    ")\n",
    "groceries = gpd.read_file(\n",
    "    geodatasets.get_path(\"geoda.groceries\")\n",
    ").to_crs(chicago.crs)"
   ]
  },
  {
   "cell_type": "code",
   "execution_count": 14,
   "metadata": {},
   "outputs": [],
   "source": [
    "chicago.plot()"
   ]
  },
  {
   "cell_type": "code",
   "execution_count": 15,
   "metadata": {},
   "outputs": [],
   "source": [
    "chicago.plot()\n",
    "groceries.plot()\n"
   ]
  },
  {
   "cell_type": "code",
   "execution_count": 16,
   "metadata": {},
   "outputs": [
    {
     "ename": "NameError",
     "evalue": "name 'chicago' is not defined",
     "output_type": "error",
     "traceback": [
      "\u001b[1;31m---------------------------------------------------------------------------\u001b[0m",
      "\u001b[1;31mNameError\u001b[0m                                 Traceback (most recent call last)",
      "Cell \u001b[1;32mIn[16], line 8\u001b[0m\n\u001b[0;32m      5\u001b[0m fig, ax \u001b[38;5;241m=\u001b[39m plt\u001b[38;5;241m.\u001b[39msubplots(figsize\u001b[38;5;241m=\u001b[39m(\u001b[38;5;241m10\u001b[39m, \u001b[38;5;241m10\u001b[39m))\n\u001b[0;32m      7\u001b[0m \u001b[38;5;66;03m# Plot the chicago GeoDataFrame\u001b[39;00m\n\u001b[1;32m----> 8\u001b[0m \u001b[43mchicago\u001b[49m\u001b[38;5;241m.\u001b[39mplot(ax\u001b[38;5;241m=\u001b[39max, color\u001b[38;5;241m=\u001b[39m\u001b[38;5;124m'\u001b[39m\u001b[38;5;124mblue\u001b[39m\u001b[38;5;124m'\u001b[39m, edgecolor\u001b[38;5;241m=\u001b[39m\u001b[38;5;124m'\u001b[39m\u001b[38;5;124mblack\u001b[39m\u001b[38;5;124m'\u001b[39m)\n\u001b[0;32m     10\u001b[0m \u001b[38;5;66;03m# Overlay the groceries GeoDataFrame\u001b[39;00m\n\u001b[0;32m     11\u001b[0m groceries\u001b[38;5;241m.\u001b[39mplot(ax\u001b[38;5;241m=\u001b[39max, color\u001b[38;5;241m=\u001b[39m\u001b[38;5;124m'\u001b[39m\u001b[38;5;124mred\u001b[39m\u001b[38;5;124m'\u001b[39m, markersize\u001b[38;5;241m=\u001b[39m\u001b[38;5;241m10\u001b[39m, label\u001b[38;5;241m=\u001b[39m\u001b[38;5;124m'\u001b[39m\u001b[38;5;124mGrocery Stores\u001b[39m\u001b[38;5;124m'\u001b[39m)\n",
      "\u001b[1;31mNameError\u001b[0m: name 'chicago' is not defined"
     ]
    },
    {
     "data": {
      "image/png": "[encoded data removed]",
      "text/plain": [
       "<Figure size 1000x1000 with 1 Axes>"
      ]
     },
     "metadata": {},
     "output_type": "display_data"
    }
   ],
   "source": [
    "import matplotlib.pyplot as plt\n",
    "\n",
    "# Assuming chicago and groceries are already loaded GeoDataFrames\n",
    "\n",
    "fig, ax = plt.subplots(figsize=(10, 10))\n",
    "\n",
    "# Plot the chicago GeoDataFrame\n",
    "chicago.plot(ax=ax, color='blue', edgecolor='black')\n",
    "\n",
    "# Overlay the groceries GeoDataFrame\n",
    "groceries.plot(ax=ax, color='red', markersize=10, label='Grocery Stores')\n",
    "\n",
    "# Add title and legend (if desired)\n",
    "ax.set_title(\"Chicago with Grocery Stores\")\n",
    "ax.legend()\n",
    "\n",
    "plt.show()\n"
   ]
  },
  {
   "cell_type": "code",
   "execution_count": 17,
   "metadata": {},
   "outputs": [
    {
     "ename": "NameError",
     "evalue": "name 'chicago' is not defined",
     "output_type": "error",
     "traceback": [
      "\u001b[1;31m---------------------------------------------------------------------------\u001b[0m",
      "\u001b[1;31mNameError\u001b[0m                                 Traceback (most recent call last)",
      "Cell \u001b[1;32mIn[17], line 8\u001b[0m\n\u001b[0;32m      5\u001b[0m fig, ax \u001b[38;5;241m=\u001b[39m plt\u001b[38;5;241m.\u001b[39msubplots(figsize\u001b[38;5;241m=\u001b[39m(\u001b[38;5;241m10\u001b[39m, \u001b[38;5;241m10\u001b[39m))\n\u001b[0;32m      7\u001b[0m \u001b[38;5;66;03m# Plot the chicago GeoDataFrame\u001b[39;00m\n\u001b[1;32m----> 8\u001b[0m \u001b[43mchicago\u001b[49m\u001b[38;5;241m.\u001b[39mplot(ax\u001b[38;5;241m=\u001b[39max, color\u001b[38;5;241m=\u001b[39m\u001b[38;5;124m'\u001b[39m\u001b[38;5;124mblue\u001b[39m\u001b[38;5;124m'\u001b[39m, edgecolor\u001b[38;5;241m=\u001b[39m\u001b[38;5;124m'\u001b[39m\u001b[38;5;124mblack\u001b[39m\u001b[38;5;124m'\u001b[39m)\n\u001b[0;32m     10\u001b[0m \u001b[38;5;66;03m# Overlay the groceries GeoDataFrame\u001b[39;00m\n\u001b[0;32m     11\u001b[0m groceries\u001b[38;5;241m.\u001b[39mplot(ax\u001b[38;5;241m=\u001b[39max, color\u001b[38;5;241m=\u001b[39m\u001b[38;5;124m'\u001b[39m\u001b[38;5;124mred\u001b[39m\u001b[38;5;124m'\u001b[39m, edgecolor\u001b[38;5;241m=\u001b[39m\u001b[38;5;124m'\u001b[39m\u001b[38;5;124mwhite\u001b[39m\u001b[38;5;124m'\u001b[39m, label\u001b[38;5;241m=\u001b[39m\u001b[38;5;124m'\u001b[39m\u001b[38;5;124mGroceries\u001b[39m\u001b[38;5;124m'\u001b[39m)\n",
      "\u001b[1;31mNameError\u001b[0m: name 'chicago' is not defined"
     ]
    },
    {
     "data": {
      "image/png": "[encoded data removed]",
      "text/plain": [
       "<Figure size 1000x1000 with 1 Axes>"
      ]
     },
     "metadata": {},
     "output_type": "display_data"
    }
   ],
   "source": [
    "import matplotlib.pyplot as plt\n",
    "\n",
    "# Assuming chicago and groceries are already loaded GeoDataFrames\n",
    "\n",
    "fig, ax = plt.subplots(figsize=(10, 10))\n",
    "\n",
    "# Plot the chicago GeoDataFrame\n",
    "chicago.plot(ax=ax, color='blue', edgecolor='black')\n",
    "\n",
    "# Overlay the groceries GeoDataFrame\n",
    "groceries.plot(ax=ax, color='red', edgecolor='white', label='Groceries')\n",
    "\n",
    "# Add title and legend\n",
    "ax.set_title(\"Chicago with Groceries\")\n",
    "ax.legend()\n",
    "\n",
    "plt.show()\n",
    "\n"
   ]
  },
  {
   "cell_type": "code",
   "execution_count": 85,
   "metadata": {},
   "outputs": [
    {
     "data": {
      "text/html": [
       "<div>\n",
       "<style scoped>\n",
       "    .dataframe tbody tr th:only-of-type {\n",
       "        vertical-align: middle;\n",
       "    }\n",
       "\n",
       "    .dataframe tbody tr th {\n",
       "        vertical-align: top;\n",
       "    }\n",
       "\n",
       "    .dataframe thead th {\n",
       "        text-align: right;\n",
       "    }\n",
       "</style>\n",
       "<table border=\"1\" class=\"dataframe\">\n",
       "  <thead>\n",
       "    <tr style=\"text-align: right;\">\n",
       "      <th></th>\n",
       "      <th>OBJECTID</th>\n",
       "      <th>Ycoord</th>\n",
       "      <th>Xcoord</th>\n",
       "      <th>Status</th>\n",
       "      <th>Address</th>\n",
       "      <th>Chain</th>\n",
       "      <th>Category</th>\n",
       "      <th>geometry</th>\n",
       "      <th>index_right</th>\n",
       "      <th>ComAreaID</th>\n",
       "      <th>...</th>\n",
       "      <th>FirearmM</th>\n",
       "      <th>InfntMR</th>\n",
       "      <th>LungCancer</th>\n",
       "      <th>ProstateC</th>\n",
       "      <th>Stroke</th>\n",
       "      <th>ChlBLLS</th>\n",
       "      <th>ChlLeadP</th>\n",
       "      <th>GonorrF</th>\n",
       "      <th>GonorrM</th>\n",
       "      <th>Tuberc</th>\n",
       "    </tr>\n",
       "  </thead>\n",
       "  <tbody>\n",
       "    <tr>\n",
       "      <th>0</th>\n",
       "      <td>16</td>\n",
       "      <td>41.973266</td>\n",
       "      <td>-87.657073</td>\n",
       "      <td>OPEN</td>\n",
       "      <td>1051 W ARGYLE ST, CHICAGO, IL. 60640</td>\n",
       "      <td>VIET HOA PLAZA</td>\n",
       "      <td>NaN</td>\n",
       "      <td>MULTIPOINT (-87.65661 41.97321)</td>\n",
       "      <td>30</td>\n",
       "      <td>3</td>\n",
       "      <td>...</td>\n",
       "      <td>4.6</td>\n",
       "      <td>6.5</td>\n",
       "      <td>50.5</td>\n",
       "      <td>25.2</td>\n",
       "      <td>41.7</td>\n",
       "      <td>353.7</td>\n",
       "      <td>0</td>\n",
       "      <td>170.8</td>\n",
       "      <td>468.7</td>\n",
       "      <td>13.6</td>\n",
       "    </tr>\n",
       "    <tr>\n",
       "      <th>87</th>\n",
       "      <td>365</td>\n",
       "      <td>41.961707</td>\n",
       "      <td>-87.654058</td>\n",
       "      <td>OPEN</td>\n",
       "      <td>4355 N SHERIDAN RD, CHICAGO, IL. 60613-1497</td>\n",
       "      <td>JEWEL OSCO</td>\n",
       "      <td>NaN</td>\n",
       "      <td>MULTIPOINT (-87.65465 41.96138)</td>\n",
       "      <td>30</td>\n",
       "      <td>3</td>\n",
       "      <td>...</td>\n",
       "      <td>4.6</td>\n",
       "      <td>6.5</td>\n",
       "      <td>50.5</td>\n",
       "      <td>25.2</td>\n",
       "      <td>41.7</td>\n",
       "      <td>353.7</td>\n",
       "      <td>0</td>\n",
       "      <td>170.8</td>\n",
       "      <td>468.7</td>\n",
       "      <td>13.6</td>\n",
       "    </tr>\n",
       "    <tr>\n",
       "      <th>90</th>\n",
       "      <td>373</td>\n",
       "      <td>41.963131</td>\n",
       "      <td>-87.656352</td>\n",
       "      <td>OPEN</td>\n",
       "      <td>4466 N BROADWAY ST, CHICAGO, IL. 60640-5660</td>\n",
       "      <td>TARGET</td>\n",
       "      <td>NaN</td>\n",
       "      <td>MULTIPOINT (-87.65598 41.96297)</td>\n",
       "      <td>30</td>\n",
       "      <td>3</td>\n",
       "      <td>...</td>\n",
       "      <td>4.6</td>\n",
       "      <td>6.5</td>\n",
       "      <td>50.5</td>\n",
       "      <td>25.2</td>\n",
       "      <td>41.7</td>\n",
       "      <td>353.7</td>\n",
       "      <td>0</td>\n",
       "      <td>170.8</td>\n",
       "      <td>468.7</td>\n",
       "      <td>13.6</td>\n",
       "    </tr>\n",
       "    <tr>\n",
       "      <th>140</th>\n",
       "      <td>582</td>\n",
       "      <td>41.969131</td>\n",
       "      <td>-87.674882</td>\n",
       "      <td>Chicago-Ravenswood</td>\n",
       "      <td>1800 W Lawrence Ave, Chicago, IL 60640</td>\n",
       "      <td>Mariano's</td>\n",
       "      <td>NaN</td>\n",
       "      <td>MULTIPOINT (-87.67417 41.96977)</td>\n",
       "      <td>30</td>\n",
       "      <td>3</td>\n",
       "      <td>...</td>\n",
       "      <td>4.6</td>\n",
       "      <td>6.5</td>\n",
       "      <td>50.5</td>\n",
       "      <td>25.2</td>\n",
       "      <td>41.7</td>\n",
       "      <td>353.7</td>\n",
       "      <td>0</td>\n",
       "      <td>170.8</td>\n",
       "      <td>468.7</td>\n",
       "      <td>13.6</td>\n",
       "    </tr>\n",
       "    <tr>\n",
       "      <th>1</th>\n",
       "      <td>18</td>\n",
       "      <td>41.696367</td>\n",
       "      <td>-87.681315</td>\n",
       "      <td>OPEN</td>\n",
       "      <td>10800 S WESTERN AVE, CHICAGO, IL. 60643-3226</td>\n",
       "      <td>COUNTY FAIR FOODS</td>\n",
       "      <td>NaN</td>\n",
       "      <td>MULTIPOINT (-87.68136 41.69713)</td>\n",
       "      <td>73</td>\n",
       "      <td>75</td>\n",
       "      <td>...</td>\n",
       "      <td>15.8</td>\n",
       "      <td>13.1</td>\n",
       "      <td>50.0</td>\n",
       "      <td>39.8</td>\n",
       "      <td>47.9</td>\n",
       "      <td>298.8</td>\n",
       "      <td>1</td>\n",
       "      <td>800.5</td>\n",
       "      <td>741.1</td>\n",
       "      <td>2.6</td>\n",
       "    </tr>\n",
       "  </tbody>\n",
       "</table>\n",
       "<p>5 rows × 95 columns</p>\n",
       "</div>"
      ],
      "text/plain": [
       "     OBJECTID     Ycoord     Xcoord              Status  \\\n",
       "0          16  41.973266 -87.657073                OPEN   \n",
       "87        365  41.961707 -87.654058                OPEN   \n",
       "90        373  41.963131 -87.656352                OPEN   \n",
       "140       582  41.969131 -87.674882  Chicago-Ravenswood   \n",
       "1          18  41.696367 -87.681315                OPEN   \n",
       "\n",
       "                                          Address              Chain Category  \\\n",
       "0            1051 W ARGYLE ST, CHICAGO, IL. 60640     VIET HOA PLAZA      NaN   \n",
       "87    4355 N SHERIDAN RD, CHICAGO, IL. 60613-1497         JEWEL OSCO      NaN   \n",
       "90    4466 N BROADWAY ST, CHICAGO, IL. 60640-5660             TARGET      NaN   \n",
       "140        1800 W Lawrence Ave, Chicago, IL 60640          Mariano's      NaN   \n",
       "1    10800 S WESTERN AVE, CHICAGO, IL. 60643-3226  COUNTY FAIR FOODS      NaN   \n",
       "\n",
       "                            geometry  index_right  ComAreaID  ... FirearmM  \\\n",
       "0    MULTIPOINT (-87.65661 41.97321)           30          3  ...      4.6   \n",
       "87   MULTIPOINT (-87.65465 41.96138)           30          3  ...      4.6   \n",
       "90   MULTIPOINT (-87.65598 41.96297)           30          3  ...      4.6   \n",
       "140  MULTIPOINT (-87.67417 41.96977)           30          3  ...      4.6   \n",
       "1    MULTIPOINT (-87.68136 41.69713)           73         75  ...     15.8   \n",
       "\n",
       "     InfntMR  LungCancer  ProstateC  Stroke  ChlBLLS  ChlLeadP  GonorrF  \\\n",
       "0        6.5        50.5       25.2    41.7    353.7         0    170.8   \n",
       "87       6.5        50.5       25.2    41.7    353.7         0    170.8   \n",
       "90       6.5        50.5       25.2    41.7    353.7         0    170.8   \n",
       "140      6.5        50.5       25.2    41.7    353.7         0    170.8   \n",
       "1       13.1        50.0       39.8    47.9    298.8         1    800.5   \n",
       "\n",
       "     GonorrM  Tuberc  \n",
       "0      468.7    13.6  \n",
       "87     468.7    13.6  \n",
       "90     468.7    13.6  \n",
       "140    468.7    13.6  \n",
       "1      741.1     2.6  \n",
       "\n",
       "[5 rows x 95 columns]"
      ]
     },
     "execution_count": 85,
     "metadata": {},
     "output_type": "execute_result"
    }
   ],
   "source": [
    "gpd.sjoin(groceries, chicago,  predicate='within').head(5)"
   ]
  },
  {
   "cell_type": "code",
   "execution_count": 86,
   "metadata": {},
   "outputs": [
    {
     "data": {
      "text/html": [
       "<div>\n",
       "<style scoped>\n",
       "    .dataframe tbody tr th:only-of-type {\n",
       "        vertical-align: middle;\n",
       "    }\n",
       "\n",
       "    .dataframe tbody tr th {\n",
       "        vertical-align: top;\n",
       "    }\n",
       "\n",
       "    .dataframe thead th {\n",
       "        text-align: right;\n",
       "    }\n",
       "</style>\n",
       "<table border=\"1\" class=\"dataframe\">\n",
       "  <thead>\n",
       "    <tr style=\"text-align: right;\">\n",
       "      <th></th>\n",
       "      <th>OBJECTID</th>\n",
       "      <th>Ycoord</th>\n",
       "      <th>Xcoord</th>\n",
       "      <th>Status</th>\n",
       "      <th>Address</th>\n",
       "      <th>Chain</th>\n",
       "      <th>Category</th>\n",
       "      <th>geometry</th>\n",
       "    </tr>\n",
       "  </thead>\n",
       "  <tbody>\n",
       "    <tr>\n",
       "      <th>0</th>\n",
       "      <td>16</td>\n",
       "      <td>41.973266</td>\n",
       "      <td>-87.657073</td>\n",
       "      <td>OPEN</td>\n",
       "      <td>1051 W ARGYLE ST, CHICAGO, IL. 60640</td>\n",
       "      <td>VIET HOA PLAZA</td>\n",
       "      <td>NaN</td>\n",
       "      <td>MULTIPOINT (-87.65661 41.97321)</td>\n",
       "    </tr>\n",
       "    <tr>\n",
       "      <th>1</th>\n",
       "      <td>18</td>\n",
       "      <td>41.696367</td>\n",
       "      <td>-87.681315</td>\n",
       "      <td>OPEN</td>\n",
       "      <td>10800 S WESTERN AVE, CHICAGO, IL. 60643-3226</td>\n",
       "      <td>COUNTY FAIR FOODS</td>\n",
       "      <td>NaN</td>\n",
       "      <td>MULTIPOINT (-87.68136 41.69713)</td>\n",
       "    </tr>\n",
       "    <tr>\n",
       "      <th>2</th>\n",
       "      <td>22</td>\n",
       "      <td>41.868634</td>\n",
       "      <td>-87.638638</td>\n",
       "      <td>OPEN</td>\n",
       "      <td>1101 S CANAL ST, CHICAGO, IL. 60607-4932</td>\n",
       "      <td>WHOLE FOODS MARKET</td>\n",
       "      <td>NaN</td>\n",
       "      <td>MULTIPOINT (-87.63918 41.86847)</td>\n",
       "    </tr>\n",
       "    <tr>\n",
       "      <th>3</th>\n",
       "      <td>23</td>\n",
       "      <td>41.877590</td>\n",
       "      <td>-87.654953</td>\n",
       "      <td>OPEN</td>\n",
       "      <td>1101 W JACKSON BLVD, CHICAGO, IL. 60607-2905</td>\n",
       "      <td>TARGET/SUPER</td>\n",
       "      <td>new</td>\n",
       "      <td>MULTIPOINT (-87.65495 41.87783)</td>\n",
       "    </tr>\n",
       "    <tr>\n",
       "      <th>4</th>\n",
       "      <td>27</td>\n",
       "      <td>41.737696</td>\n",
       "      <td>-87.625795</td>\n",
       "      <td>OPEN</td>\n",
       "      <td>112 W 87TH ST, CHICAGO, IL. 60620-1318</td>\n",
       "      <td>FOOD 4 LESS</td>\n",
       "      <td>NaN</td>\n",
       "      <td>MULTIPOINT (-87.62715 41.73623)</td>\n",
       "    </tr>\n",
       "  </tbody>\n",
       "</table>\n",
       "</div>"
      ],
      "text/plain": [
       "   OBJECTID     Ycoord     Xcoord Status  \\\n",
       "0        16  41.973266 -87.657073   OPEN   \n",
       "1        18  41.696367 -87.681315   OPEN   \n",
       "2        22  41.868634 -87.638638   OPEN   \n",
       "3        23  41.877590 -87.654953   OPEN   \n",
       "4        27  41.737696 -87.625795   OPEN   \n",
       "\n",
       "                                        Address               Chain Category  \\\n",
       "0          1051 W ARGYLE ST, CHICAGO, IL. 60640      VIET HOA PLAZA      NaN   \n",
       "1  10800 S WESTERN AVE, CHICAGO, IL. 60643-3226   COUNTY FAIR FOODS      NaN   \n",
       "2      1101 S CANAL ST, CHICAGO, IL. 60607-4932  WHOLE FOODS MARKET      NaN   \n",
       "3  1101 W JACKSON BLVD, CHICAGO, IL. 60607-2905        TARGET/SUPER      new   \n",
       "4        112 W 87TH ST, CHICAGO, IL. 60620-1318         FOOD 4 LESS      NaN   \n",
       "\n",
       "                          geometry  \n",
       "0  MULTIPOINT (-87.65661 41.97321)  \n",
       "1  MULTIPOINT (-87.68136 41.69713)  \n",
       "2  MULTIPOINT (-87.63918 41.86847)  \n",
       "3  MULTIPOINT (-87.65495 41.87783)  \n",
       "4  MULTIPOINT (-87.62715 41.73623)  "
      ]
     },
     "execution_count": 86,
     "metadata": {},
     "output_type": "execute_result"
    }
   ],
   "source": [
    "groceries.head()"
   ]
  },
  {
   "cell_type": "code",
   "execution_count": null,
   "metadata": {},
   "outputs": [],
   "source": []
  },
  {
   "cell_type": "code",
   "execution_count": null,
   "metadata": {},
   "outputs": [],
   "source": []
  },
  {
   "cell_type": "code",
   "execution_count": null,
   "metadata": {},
   "outputs": [],
   "source": []
  },
  {
   "cell_type": "code",
   "execution_count": null,
   "metadata": {},
   "outputs": [],
   "source": []
  },
  {
   "cell_type": "code",
   "execution_count": null,
   "metadata": {},
   "outputs": [],
   "source": []
  },
  {
   "cell_type": "code",
   "execution_count": null,
   "metadata": {},
   "outputs": [],
   "source": []
  }
 ],
 "metadata": {
  "kernelspec": {
   "display_name": "Python 3 (ipykernel)",
   "language": "python",
   "name": "python3"
  },
  "language_info": {
   "codemirror_mode": {
    "name": "ipython",
    "version": 3
   },
   "file_extension": ".py",
   "mimetype": "text/x-python",
   "name": "python",
   "nbconvert_exporter": "python",
   "pygments_lexer": "ipython3",
   "version": "3.10.9"
  }
 },
 "nbformat": 4,
 "nbformat_minor": 4
}
